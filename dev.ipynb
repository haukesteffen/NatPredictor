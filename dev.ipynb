{
 "cells": [
  {
   "cell_type": "markdown",
   "metadata": {},
   "source": [
    "# **NATIONALITY PREDICTION**\n",
    "\n",
    "The goal of this notebook is to create a model that can predict nationalities from name strings."
   ]
  },
  {
   "cell_type": "code",
   "execution_count": 7,
   "metadata": {},
   "outputs": [
    {
     "name": "stdout",
     "output_type": "stream",
     "text": [
      "Using mps device\n",
      "Country codes: MY, CR, AZ, TM, AL, BW, MX, MO, NA, TN, AO, BG, UY, ZA, BF, NG, BD, BR, BE, CA, LY, IR, IE, KZ, FJ, EG, ID, IS, HU, IQ, FI, EE, PS, QA, PE, PR, SI, ES, HT, JO, IT, GH, PA, DE, KH, EC, ET, SY, PT, HR, JM, IL, DK, DJ, KR, HK, SV, SA, PL, RS, GE, GR, IN, HN, DZ, FR, SD, PH, SE, JP, GB, SG, RU, GT, KW, LT, BH, CL, TR, CZ, AE, CM, BI, AR, LB, LU, MD, CO, AF, CY, CN, OM, MA, MV, BN, YE, BO, AT, NL, MU, US, TW, CH, MT, NO\n",
      "Vocabulary:  !#$%&()*-./:;<=ABCDEFGHIJKLMNOPQRSTUVWXYZ[\\]^_`abcdefghijklmnopqrstuvwxyz{|}¡¢£¤¥¦§¨©ª«¬®¯°±´µ¶·¸º»¼½¾¿ÀÁÂÃÄÅÆÇÈÉÊËÌÍÎÏÐÑÒÓÔÕÖ×ØÙÚÛÜÝÞßàáâãäåæçèéêëìíîïðñòóôõöøùúûüýþÿĀāĂăĄąĆćĈĉĊċČčĎďĐđĒēĔĕĖėĘęĚěĜĝĞğĠġĢģĤĥĦħĨĩĪīĬĭĮįİıĲĳĴĵĶķĸĹĺĻļĽľĿŀŁłŃńŅņŇňŉŊŋŌōŎŏŐőŒœŔŕŖŗŘřŚśŜŝŞşŠšŢţŤťŦŧŨũŪūŬŭŮůŰűŲųŴŵŶŷŸŹźŻżŽžſƀƁƂƃƄƅƆƇƈƉƊƋƌƍƎƏƐƑƒƓƔƕƖƗƘƙƚƛƜƝƞƟƠơƢƣƤƥƦƧƨƩƪƫƬƭƮƯưƱƲƳƴƵƶƸƹƺƻƼƽƾƿǀǂǅǆǍǎǏǐǑǒǓǔǕǖǗǘǙǚǛǜǝǞǟǠǡǢǣǤǥǦǧǨǩǪǫǬǭǮǯǰǳǴǵǶǷǸǹǺǻǼǽǾǿȀȁȂȃȄȅȆȇȈȉȊȋȌȍȎȏȐȑȒȓȔȕȖȗȘșȚțȜȝȞȟȠȡȢȣȤȥȦȧȨȩȪȫȬȭȮȯȰȱȲȳȴȵȶȷȸȹȺȻȼȽȾȿɀɃɄɅɆɇɈɉɊɋɌɍɎɏɐɑɒɓɔɕɖɗɘəɚɛɜɝɞɟɠɡɢɣɤɥɦɧɨɩɪɫɭɮɯɱɲɳɴɵɶɷɸɹɺɽɾɿʀʁʂʃʄʅʆʇʈʉʊʋʌʍʎʏʐʑʒʓʘʙʚʛʜʝʞʟʠʡʢʥʩʬʭʮʯʰʳʹʼʾˆˇˎː˘˚˛˜˟ˡˢˣ˫̴̵̶̷̸̡̢̧̨̛̖̗̘̙̜̝̞̟̠̣̤̥̦̩̪̫̬̭̮̯̰̱̲̳̹̺̻̼͇͈͉͍͎̀́̂̃̄̅̆̇̈̉̊̋̌̍̎̏̐̑̒̓̔̽̾̿͂͆͊͋͌̕̚ͅ͏͓͔͕͖͙͚͐͑͒͗͛ͣͤͥͦͧͨͩͪͫͬͭͮͯ͘͜͟͢͝͞͠͡ͶͷͺͼͽͿΆΈΉΊΌΎΏΐΑΒΓΔΕΖΗΘΙΚΛΜΝΞΟΠΡΣΤΥΦΧΨΩΪΫάέήίΰαβγδεζηθικλμνξοπρςστυφχψωϊϋόύώϏϐϑϒϓϔϕϖϗϘϙϚϛϜϝϢϥϧϨϩϪϫϭϯϲϳϵϺϻϾϿЀЁЂЃЄЅІЇЈЉЊЋЌЍЎЏАБВГДЕЖЗИЙКЛМНОПРСТУФХЦЧШЩЪЫЬЭЮЯабвгдежзийклмнопрстуфхцчшщъыьэюяѐёђѓєѕіїјљњћќѝўџѠѡѢѣѥѦѧѨѩѪѫѬѭѮѯѰѱѲѳѴѵѶѷѺѻѼѽѾѿҁ҃҄҅҆҇҈҉ҊҋҍҎҏҐґҒғҔҕҖҗҘҙҚқҜҝҞҟҠҡҢңҤҥҦҧҨҩҪҫҬҭҮүҰұҲҳҴҵҶҷҸҹҺһҼҽҾҿӀӁӂӃӄӆӇӈӉӊӍӎӏӐӑӒӓӕӗӘәӚӛӝӟӠӡӢӣӤӥӦӧӨөӪӫӭӮӯӱӲӳӵӶӷӻӼӽӿԀԁԂԃԄԅԆԇԊԋԌԍԎԏԑԔԕԖԗԚԛԱԲԳԴԵԶԷԸԹԺԻԼԽԾԿՀՁՂՃՄՅՆՇՈՉՊՋՌՍՎՏՐՑՒՓՔՕՖՙ՚՜՞աբգդեզէըթժիլխծկհձղճմյնշոչպջռսվտրցւփքօֆև։֊ְֱֲֳִֵֶַָֹֺֻּ֮֔֙֟֫־ֿׁׂ׆ׇאבגדהוזחטיךכלםמןנסעףפץצקרשתװױײ׳״،؍؏ؘؙؚؐؑؒؓؔؕؖ؛؞؟ؠءآأؤإئابةتثجحخدذرزسشصضطظعغػؼؽؾؿـفقكلمنهوىيًٌٍَُِّْٕٖٜٓٔٗ٘ٙٚٛٝٞ٪٫٬٭ٮٯٰٱٲٳٴٵٶٷٸٹٺٻټٽپٿڀځڂڃڄڅچڇڈډڊڋڌڍڎڏڐڑڒړڔڕږڗژڙښڛڜڝڞڟڠڡڢڣڤڥڦڧڨکڪګڬڭڮگڰڱڲڳڴڵڶڷڸڹںڻڼڽھڿۀہۂۃۄۅۆۇۈۉۊۋیۍێۏېۑےۓ۔ەۖۗۘۙۚۛۜ۞ۣ۟۠ۡۢۤۥۦ۪ۭۧۨ۫۬ۮۯۺۻۼ۽ۿ܀܃ܐܑܒܓܔܕܖܗܘܙܚܛܜܝܞܟܠܡܢܣܤܥܦܧܨܩܪܫܬܭܸܹܼ݂݄݆݈ܰܲܳܵܶܺܽܿ݁݃݅݇݉݊ݐݑݒݓݔݕݖݗݘݙݚݛݜݝݞݟݠݡݢݣݤݥݦݧݨݩݪݫݬݭݯݰݱݲݳݴݶݷݸݹݺݻݼݽݾݿހށނރބޅކއވމފދތލގޏސޑޒޓޔޕޖޗޘޙޚޛޜޝޞޟޠޢޣޤަާިީުޫެޭޮޯްޱߊߋߌߍߎߏߐߒߓߔߕߖߗߘߙߚߛߜߝߞߟߠߡߢߣߤߥߦ߲߫߬߭߮߰߱ߴߺࠃࡀࡃࡅࡉࡋࡌࡎࣰࣲࣩࣥࣨ࣪࣫ࣳࣵࣷࣸँंःअआइईउऊऋऌऍऎएऐऑऒओऔकखगघङचछजझञटठडढणतथदधनऩपफबभमयरऱलळऴवशषसहऻ़ऽािीुूृॄॅॆेैॉॊोौ्ॏॐ॒॑॓॔ॕॖॗख़ड़ढ़ॠॡॢॣ।॥॰ॱॲॶॼঁংঃঅআইঈউঊঋঌএঐওঔকখগঘঙচছজঝঞটঠডঢণতথদধনপফবভমযরলশষসহ়ঽািীুূৃৄেৈোৌ্ৎৗড়য়ৠৡৢৣৰৱਁਂਃਅਆਇਈਉਊਏਐਓਔਕਖਗਘਙਚਛਜਝਞਟਠਡਢਣਤਥਦਧਨਪਫਬਭਮਯਰਲਵਸ਼ਸਹ਼ਾਿੀੁੂੇੈੋੌ੍ੑਖ਼ਜ਼ੜੰੱੲੳੴੵઁંઃઅઆઇઈઉઊઋઌઍએઐઑઓઔકખગઘઙચછજઝઞટઠડઢણતથદધનપફબભમયરલળવશષસહ઼ઽાિીુૂૃૄૅેૈૉોૌ્ૐૠૣଁଂଃଅଆଇଈଉଊଋଏଐଓଔକଖଗଘଙଚଛଜଝଞଟଠଡଢଣତଥଦଧନପଫବଭମଯରଲଳଵଶଷସହ଼ଽାିୀୁୂୃୄେୈୋୌ୍ୟୱஂஃஅஆஇஈஉஊஎஏஐஒஓஔகஙசஜஞடணதநனபமயரறலளழவஶஷஸஹாிீுூெேைொோௌ்ௐௗఁంఃఅఆఇఈఉఊఋఎఏఐఒఓఔకఖగఘఙచఛజఝఞటఠడఢణతథదధనపఫబభమయరఱలళవశషసహఽాిీుూృౄెేైొోౌ్ౖౙౠౢಂಃಅಆಇಈಉಊಋಌಎಏಐಒಓಔಕಖಗಘಙಚಛಜಝಞಟಠಡಢಣತಥದಧನಪಫಬಭಮಯರಱಲಳವಶಷಸಹ಼ಾಿೀುೂೃೆೇೈೊೋೌ್ೕೖೠೡംഃഅആഇഈഉഊഋഎഏഐഒഓഔകഖഗഘങചഛജഝഞടഠഡഢണതഥദധനപഫബഭമയരറലളഴവശഷസഹഺഽാിീുൂൃൄെേൈൊോൌ്ൗൺൻർൽൾංඃඅආඇඈඉඊඋඌඍඏඐඑඒඓඔඕඖකඛගඝඞඟචඡජඣඤඥඦටඨඩඪණඬතථදධනඳපඵබභමඹයරලවශෂසහළෆ්ාැෑිීුූෘෙේෛොෝෞෟ෴กขฃคฅฆงจฉชซฌญฎฏฐฑฒณดตถทธนบปผฝพฟภมยรฤลฦวศษสหฬอฮฯะัาำิีึืฺุูเแโใไๅๆ็่้๊๋์ํ๎๏๛ກຂຄງຈຊຍດຕຖທນບປຜຝພຟມຢຣລວສຫອຮະັາຳິີຶືຸູົຼຽເແໂໃໄໆ່້໊໋໌ໍໜໝༀ༆༈་༌།༎༏༑༔༵༼༽ཀཁགངཅཆཇཉཊཋཌཎཏཐདནཔཕབམཙཚཛཝཞཟའཡརལཤཥསཧཨཪཬཱིེཻོཽུཾཿ྄ྀྂྃྈྋྐྒྔྕྗྙྚྟྡྣྤྦྨྩྫྭྰྱྲླྵྶྷ࿆ကခဂဃငစဆဇဈဉညဋဌဍဎဏတထဒဓနပဖဗဘမယရလဝသဟဠအဢဣဤဥဦဧဨဩဪါာိီုူေဲဳဴဵံ့း္်ျြွှဿ၊။၌၍၎၏ၐၑၒၓၔၕၗၚၛၜၝၞၠၡၢၣၤၥၦၧၨၪၫၬၭၰၱၲၳၵၶၷၸၹၺၻၼၽၾၿႀႁႂႃႄႅႆႇႈႉႊႋႌႍႎႏႚႜႝႠႢႣႨႩႫႬႮႰႵႶႷႿჁაბგდევზთიკლმნოპჟრსტუფქღყშჩცძწჭხჯჰჱჲჳჴჵჶჷჹჺᄀᄅᄽᅮᆞሀሁሂሃሄህሆሇለሉሊላሌልሎሏሐሑሒሓሔሕሖሗመሙሚማሜምሞሟሠሡሢሣሤሥሦሧረሩሪራሬርሮሯሰሱሲሳሴስሶሷሸሹሺሻሼሽሾሿቀቁቂቃቄቅቆቇቈቋቌቐቑቒቓቕቖቚቛቜበቡቢባቤብቦቧቨቩቪቫቬቭቮቯተቱቲታቴትቶቷቸቹቺቻቼችቾቿኀኁኂኃኄኅኆኈኊኋኌኍነኑኒናኔንኖኗኘኙኚኛኜኝኞኟአኡኢኣኤእኦኧከኩኪካኬክኮኯኰኲኳኴኵኸኹኺኻኼኽኾዂዃዄወዉዊዋዌውዎዏዐዑዒዓዔዕዖዘዙዚዛዜዝዞዟዠዡዢዣዤዥዦየዩዪያዬይዮዯደዱዲዳዴድዶዷዸዹዺዻዼዽዾጀጁጂጃጄጅጆጇገጉጊጋጌግጎጏጐጒጓጔጕጘጙጚጛጝጟጠጡጢጣጤጥጦጧጨጩጪጫጬጭጮጯጰጱጲጳጴጵጶጷጸጹጺጻጼጽጾፀፁፂፃፄፅፆፇፈፉፊፋፌፍፎፏፐፑፒፓፔፕፖፗፙፚ፝፟፠፡።፣፤፦ᎀᎁᎂᎃᎄᎅᎆᎇᎋᎠᎡᎢᎣᎤᎥᎦᎧᎨᎩᎪᎫᎬᎭᎮᎯᎰᎱᎲᎳᎴᎵᎶᎷᎸᎹᎻᎽᎾᎿᏀᏁᏂᏃᏄᏅᏆᏇᏉᏊᏋᏌᏍᏎᏐᏑᏒᏓᏔᏕᏖᏗᏘᏙᏚᏛᏜᏝᏞᏟᏠᏡᏢᏣᏤᏥᏦᏧᏨᏩᏪᏫᏬᏮᏯᏰᏱᏲᏳᏴᏸᏹᏺᏻᏼᐁᐃᐄᐅᐊᐎᐏᐑᐒᐘᐜᐝᐟᐢᐤᐦᐧᐨᐪᐯᐳᐴᐶᐸᐺᐻᑂᑆᑉᑊᑋᑌᑎᑐᑑᑕᑖᑘᑛᑜᑢᑣᑤᑦᑧᑨᑪᑫᑬᑭᑮᑯᑲᑳᑶᑷᑸᑹᑾᑿᒀᒁᒂᒃᒄᒆᒉᒋᒌᒍᒎᒏᒐᒑᒘᒙᒚᒛᒜᒝᒣᒤᒥᒦᒧᒪᒫᒶᒷᒸᒹᒺᒼᓂᓃᓄᓅᓇᓈᓋᓌᓍᓎᓏᓐᓕᓗᓚᓦᓧᓪᓫᓬᓮᓯᓰᓱᓲᓴᓵᓺᓾᓿᔅᔆᔐᔑᔓᔕᔖᔙᔚᔛᔜᔡᔢᔣᔤᔥᔩᔪᔫᔭᔮᔷᔼᔿᕆᕈᕉᕊᕋᕍᕐᕒᕓᕗᕘᕙᕚᕞᕠᕢᕦᕧᕨᕩᕫᕬᕮᕯᕰᕱᕲᕳᕴᕵᕶᕼᕾᕿᖀᖅᖆᖇᖏᖑᖒᖓᖔᖘᖙᖠᖫᖯᖰᖱᖲᖳᖴᖶᖸᖺᖻᖼᖽᖾᖿᗁᗂᗅᗋᗐᗔᗗᗚᗛᗜᗝᗞᗟᗠᗡᗢᗥᗦᗨᗩᗪᗫᗬᗭᗯᗰᗱᗲᗳᗴᗵᗷᗸᗹᗼᗽᗾᗿᘂᘉᘍᘎᘏᘐᘑᘒᘓᘔᘗᘘᘙᘜᘝᘢᘮᘳᘴᘹᘺᘻᘿᙀᙁᙅᙈᙊᙍᙎᙏᙐᙑᙒᙓᙔᙖᙗᙘᙙᙛᙜᙝᙞᙟᙡᙢᙣᙤᙥᙦᙧᙪᙫᙬ᙭ᚊᚠᚡᚢᚣᚤᚦᚨᚩᚪᚫᚬᚮᚱᚲᚳᚴᚵᚷᚹᚺᚻᚼᚾᚿᛁᛂᛃᛄᛆᛇᛈᛉᛊᛋᛍᛏᛐᛑᛒᛖᛗᛘᛚᛝᛞᛟᛣ᛫ᜀᜁᜂᜃᜄᜅᜆᜇᜈᜉᜊᜋᜌᜎᜏᜐᜑᜒᜓ᜔កខគឃងចឆជឈញដឋឌឍណតថទធនបផពភមយរលវឝឞសហឡអឣឥឦឧឨឩឪឫឬឭឮឯឰឱឲឳ឴ាិីឹឺុូួើឿៀេែៃោៅំះៈ៉៊់៌៍៎៏័៑្៓។៖ៗ៚᠌ᠠᠡᠢᠣᠤᠥᠦᠧᠨᠩᠪᠫᠬᠭᠮᠯᠰᠱᠲᠳᠴᠵᠶᠷᠸᠾᡃᡄᡅᡇᡉᡑᡕᡠᡤᡨᡩᡳᡵᢆᢚᢤᢨᣃᣄᤀᤁᤂᤃᤅᤆᤇᤈᤋᤌᤍᤎᤏᤐᤑᤒᤓᤔᤕᤖᤗᤘᤙᤛᤜᤠᤡᤢᤣᤥᤧᤩᤪᤰᤱᤴᤶᤷ᤻᥄ᥐᥑᥓᥔᥕᥖᥗᥙᥛᥜᥝᥞᥠᥡᥢᥣᥦᥨᥩᥪᥫᥭᥰᥱᥲᥴᦏᦒᨀᨂᨄᨅᨆᨈᨉᨊᨍᨏᨑᨒᨓᨔᨕᨖᨗᨙᨚᩎᬡᬥᬦᬧᬬᬯᬾ᭄ᮁᮂᮃᮄᮅᮌᮒᮓᮔᮕᮖᮙᮛᮜᮝᮞᮟᮤᮥᮨ᮪ᮼᮽᯇᯤᯩᯱᰄᰭᰯᰱᱚᱛᱜᱝᱞᱟᱠᱡᱢᱣᱤᱥᱦᱧᱨᱩᱫᱬᱭᱮᱯᱰᱱᱲᱳᱴᱵᱶᱷᱸᱹᱽᴀᴄᴅᴆᴇᴉᴊᴋᴍᴏᴑᴓᴖᴗᴘᴙᴚᴛᴜᴟᴠᴢᴥᴧᴨᴫᴬᴮᴰᴱᴲᴳᴴᴵᴶᴷᴸᴺᴻᴼᴽᴿᵀᵁᵅᵇᵏᵐᵔᵜᵞᵡᵩᵪᵯᵴᵵᵸᶒᶓᶔᶕᶜᶠᶢᶤᶨᶯᶰᶸᶻ᷊᷽᷿᷈᷉᷋ᷝᷞᷟᷧ᷾᷍ḀḁḂḃḄḅḆḇḈḉḊḋḌḍḎḏḐḑḒḓḔḕḖḗḘḙḚḛḜḝḞḟḠḡḢḣḤḥḦḧḨḩḪḫḬḭḮḯḰḱḲḳḴḵḶḷḸḹḺḻḼḽḾḿṀṁṂṃṄṅṆṇṈṉṊṋṌṍṎṏṐṑṒṓṔṕṖṗṘṙṚṛṜṝṞṟṠṡṢṣṤṥṦṧṨṩṪṫṬṭṮṯṰṱṲṳṴṵṶṷṸṹṺṻṼṽṾṿẀẁẂẃẄẅẆẇẈẉẊẋẌẍẎẏẐẑẒẓẔẕẖẗẘẙẚẛẜẝẞẟẠạẢảẤấẦầẨẩẪẫẬậẮắẰằẲẳẴẵẶặẸẹẺẻẼẽẾếỀềỂểỄễỆệỈỉỊịỌọỎỏỐốỒồỔổỖỗỘộỚớỜờỞởỠỡỢợỤụỦủỨứỪừỬửỮữỰựỲỳỴỵỶỷỸỹỺỻỼỽỾỿἀἁἂἃἄἅἆἇἈἉἌἍἏἐἑἒἓἔἕἘἙἛἜἝἠἣἤἥἧἨἩἪἬἭἯἰἱἲἳἴἵἶἸἹἼὀὁὂὃὄὈὉὋὐὓὔὕὖὗὙὛὝὠὣὦὧὮὯὰὴήὶὸὺὼᾀᾂᾃᾄᾆᾇᾊᾋᾌᾏᾐᾑᾕᾖᾗᾘᾝᾟᾤᾥᾬᾰᾱᾴᾶᾷᾸΆῂῆῊῐῑῒῖῡῢῥῦῨῬῳῴῶῷῺ–—‗‘’‚“”„†‡•…‧‰‹›※‼⁂ⁱ₎ₓ₥€₯⃒⃘⃚⃔⃕⃖⃗⃜⃝⃞⃟⃠⃡⃢⃣⃤⃦⃫⃬⃭⃮⃯⃧⃩ℂ℅ℇℑℒℓℛ℠™ΩℬℯℱℴⅅⅡⅢⅴ↯∂∑∞∩∫≈≠≡≤≥≦≧⊕⊰⊱⋁⋆⋋⋌⌣⎛⎝⎞⎠⎲⎵⎷⏎⏝⏠⑩⑫⑰ⒶⒷⒸⒺⒻⒿⓀⓂⓄⓊⓋⓌⓏⓐⓓⓖⓚⓛⓝⓟⓦⓨ⓫─━│┌┐└┘├┤┼═║╔╗╘╚╛╝╣╤╦╧╩╪╬╭╮╯╰▁▂▃▅▆▇█░▒▓▷►▼◁◄◇◊◒◔◘◡◢◤◪☀★☆☊☜☡☥☭☮☺☼☾♈♔♛♡♣♪✂✅✇✌✎✓✔✗✘✝✞✟✣✤✥✦✩✪✫✬✭✮✯✰✱✲✹✿❀❁❂❃❄❉❊❣❤❥❦❧❿➜➸⠀⣧ⱢⱤⱥⱦⱭⱮⱯⱾⱿⴇⴈⴌⴟⴰⴱⴲⴳⴴⴵⴶⴷⴸⴹⴺⴻⴼⴽⴾⴿⵀⵁⵂⵃⵄⵅⵆⵇⵈⵉⵊⵋⵍⵎⵏⵐⵒⵓⵔⵕⵖⵗⵘⵙⵚⵛⵜⵝⵞⵟⵠⵡⵢⵣⵤⵥⵧⵯⷡⷥⷦⷪⷭⷮⷯⷴ⺌、。々〆〈〉《》「」『』【】〘〙〜〤ぁあぃいぅうぇえぉおかがきぎくぐけげこごさざしじすずせぜそぞただちぢっつづてでとどなにぬねのはばぱひびぴふぶぷへべぺほぼぽまみむめもゃやゅゆょよらりるれろゎわゐゑをんゔゖゝゞァアィイゥウェエォオカガキギクグケゲコゴサザシジスズセゼソゾタダチヂッツヅテデトドナニヌネノハバパヒビピフブプヘベペホボポマミムメモャヤュユョヨラリルレロヮワヰヱヲンヴヵヶヷ・ーヽヾㄊㄎㄓㄝㄞㄨㄱㄴㄹㅁㅇㅈㅉㅍㅎㅐㅓㅔㅖㅗㅜㅡㅣㅤㆍ㊖㊣㋖㋛㋡㔶㕥㛄㣄㩧㩮㮈㺩䉀䑂䑓䕃䭓一丁丂七丅万丈三上下不与丑丒专且丕世丘丙业丛东丝丞丟両两严並丨个丫中丰串临丶丷丸丹为主丼丽丿乀乂乃乄久乇么义之乌乍乎乐乒乓乔乖乗乘乙乛乜九也习乡书买乱乳乾亀亂了予争事二于亐云互亓五井亖亗亘亙亚些亜亞亟亠亡亢交亥亦产亨亩享京亭亮亰亲亵亷人亻亼亽亾亿什仁仅仇仈今介仌仍从仏仓仔仕付仙仚仝仟代令以仨仪们仮仰仲件价仺任份企伈伉伊伍伏休众优伙会伝伞伟传伤伦伯伱伴伶伸伺似伽但位低住佐佑体何佖佘余佛作你佣佩佬佰佳佶使侃來例侍侏侑侖供依侞侠価侣侥侧侨侯侶便係促俄俊俐俗俙俚保俞俠信俣俪俬俭修俯俵俺俽倉個倍倒倖候倚借倡値倦倩倪倫倭倸倻值倾假偈偉偌偏做停健偩偲偳側偵偶偷偽傀傅傍傑傘備傢催傭傲傳債傷傻傾働像僑僕僖僚僡僮僰僱僵價僾儀億儉儍儒償儡優儷儸儿允元兄充兆先光克免兎児兒兔党兜入內全兩八公六兮兰共兲关兴兵其具典兹养兼兽冀冄内円冇冈冉冊冋册再冒冖写军农冠冢冥冧冨冬冭冯冰冲决冴冶冷冻冼冽净凄准凉凊凌凍减凘凛凜凝凞几凡凤処凪凯凰凱凳凸出击函刀刁刃刄分切刈刊刑划列刘则刚创初删判別利刪别刮到制券刹刺刻剀則削剌前剎剑剔剛剡剣剤副剱割剴創劇劉劍劏劑力办功加务劣动助努劫劬劭励劲劳効劼势勁勃勅勇勉勋勍勒動勘務勛勝勞募勢勤勲勳勵勻勿匀匂包匒匕化北匙匚匠匡匪匯匱匹区医匿區十千卄升午卉半卌华协卑卓協单卖南単博卜卝卞占卡卢卣卦卧卫卯印危即卵卷卽卿厂厄历厌厘厚原厠厤厦厨厭厲厳厶厷去叁参參叄又叉及友双反収发叔取受变叙叛叡口古句另只叫召叭叮可台史右叶号司叻叼吃各吇合吉吋同名后吏吐向吕吗君吟吡吥否吧含听吮启吱吳吴吵吸吹吻吼吾呀呂呆呇呈呉告呐呑呒呓呖呗员呢呦周呪呱味呵呼命咀咁咂咄咋和咏咐咔咕咖咘咚咣咩咪咯咲咳咽咿哀品哆哇哈哉哋响哎哒哓哔哟員哥哩哪哭哮哲唄唆唇唉唏唐唔唖唜唧售唯唱唲唹啄商啊問啓啟啡啤啦啵啸啼啾喀喃善喆喇喉喊喔喘喜喝喪喬單喰喱喵営喷喻嗎嗏嗖嗚嗜嗣嗦嗪嗫嗯嗱嘉嘎嘘嘚嘛嘜嘟嘠嘩嘭嘯嘲嘻嘿噌噗噛噜噠噢器噴噶噹嚇嚐嚕嚧嚮嚴嚼囉囊囍囗囚四囝回囟因囡团団囧园囯困図囹固国图圃圆圈國圍園圓圖團土圣圧在圭地圳场址坂均坊坎坏坐坑块坙坚坛坝坡坤坦坪坭坷垂型垚垠垢垣垫垲埃城埔埜域埴執培基埼堀堂堃堅堇堊堕堡堤堪堯堰報場堵堺塁塊塋塑塔塗塘塙塚塞塩填塱塲塵境墅墊墓増墙增墨墮墳墾壁壇壊壕壘壞壤士壮壯声壱売壳壶壷壹壺壽处备変夊夌复夏夕外夘多夛夜够夠夢大天太夫夬央夯失头夷夺奀奄奇奈奉奋奎奏奐契奔奕奖套奠奢奥奧奨奪奮女奴奵奶奸好如妃妄妆妇妍妏妒妖妗妘妙妝妤妥妨妩妮妳妹妺妻姆姉始姍姐姑姓委姗姚姜姝姨姫姬姲姳姵姶姷姸姿威娃娅娇娉娒娘娛娜娟娣娥娫娳娴婀婆婉婕婗婚婞婦婧婭婳婴婵婷媁媂媒媖媚媛媜媽嫁嫂嫌嫒嫙嫚嫣嫦嫩嫲嫻嬅嬉嬊嬋嬌嬡嬣嬤嬪嬰嬷嬸嬿孃孋子孑孔孖字存孙孛孜孝孟季孤学孩孫孬孱學孽宁它宅宇守安宋完宍宏宓宗官宙定宛宜宝实実客宣室宥宧宪宫宬宮宰宲宵家宸容宽宾宿寁寂寄寅密寇富寐寒寓寘寛寝寞察寡實寧審寫寬寮寯寰寳寵寶寸对寺寻导対寿封専射将將專尉尊尋對導小尐少尒尔尕尖尘尚尛尤尧尭就尸尹尺尻尼尽尾局屁层居屈届屋屍屏屐屑展屝属屠層屬屯山屺岁岄岐岑岚岛岡岩岫岬岭岱岳岸峇峠峡峤峥峨峪峭峮峯峰島峻崇崊崋崎崑崔崖崚崤崩崴崵嵋嵐嵘嵛嵜嵩嵬嵯嵻嶋嶌嶺嶼嶽巍巒巖巛川州巠巡巢巣工左巧巨巫差己已巳巴巷巻巾币市布帅帆师希帏帕帖帘帝帥带師席帮帯帰帳帶帷常帼帽幅幌幕幟幡幣幫干平年并幸幹幻幼幽幾广広庄庆床序库应底店庙庚府庞庠度座庫庭庵康庸廁廂廄廉廊廖廚廟廠廢廣廳廴延廷廸建廻廾廿开弁异弄弋弍弎式弐弑弒弓弔引弗弘弛弟张弥弦弩弯弱張強弸弹强弼弾彈彌彎彑归当录彗彡形彣彤彥彦彧彩彪彫彬彭彰影役彻彼彾往征径待很律後徐徑徒従得徙從御徦復循微徯徳徴徵德徹徽心忄必忆忌忍志忘忙忞忠忧快忱忲念忸忻忽怀态怎怒怖怜思怠怡急性怨怩怪怷怺总怿恆恋恐恒恕恛恢恥恨恩恬恭息恰恵恺悅悉悌悔悖悟悠悤悦悩悪悬悲悳悴悶情惇惊惑惘惜惟惠惡惣惪惯惰想惹惺愁愈愉意愚愛感愫愷愼愿慈慊態慌慎慕慘慜慢慣慧慨慮慰慶慷憂憎憐憔憤憧憫憬憲憶憾懂應懋懌懐懒懓懦懶懷懸懿戀戅戇戈戎戏成我戒或战戛戦戮戯戰戲戴戶户戸房所扁扆扇手才扎扑扒打托扛扣执扩扬扭扯扳扶批找承技抄把抒抓投抖抗折抚択抢护报抱抵抹押抽担拆拈拉拍拎拒拓拔招拜拝拡拥拨择括拯拱拳拼拽拾拿持指按挑挙挨挪振挺挽挾捌捏换捨据捲捷捺掃掄授掌排掘掛掞掠採探掣接控推措掬揁揉描提揖揚換握揪揮援揼損搜搬搭搵搶携摂摄摆摘摟摩摳摸摺撃撈撒撓撞撤撫播撮撲撳撼擁擂擇擊擋操擔擦擴擺攝攪支攵收攸改攻放政故效敉敌敏救敗教敢散敦敬数整敵敷數文斈斉斋斌斎斐斑斗料斜斡斤斧斩斬断斯新斳斷方於施斿旅旆旋旌旎族旖旗无既旤日旦旧旨早旬旭旱时旷旺旻旼昀昂昆昇昉昊昌明昏易昕昜星映春昧昨昭是昰昱昴昼显時晃晉晋晏晓晖晗晚晞晟晤晧晨普景晰晴晶智暁暄暇暈暉暐暑暖暗暘暢暧暫暮暴暹曄曇曈曉曓曖曙曜曦曰曲曳更曵書曹曺曻曼曽曾替最會月有朋服朔朕朗望朝期朣朧木朩未末本札术朱朴朵机朽杂权杆杉李杏材村杖杜杞束条杢杣来杨杭杯杰東杵杺松板极枋枏析枒林枘枚果枝枠枡枦枫枭枯枰架柁柃柄柊柏某柑柒染柔柘柚柜柞柠查柯柱柳柴柵査柾柿栁栂栃栄标栈栋栎树栓栖栗栝栞校栢栤栩栵样核根格栽桀桁桂桃案桉桊桌桐桑桒桓桔桜桝桟桢档桥桦桧桩桶梁梅梓梘梛條梟梠梢梦梧梨梭梯械梵梶梿棄棉棋棒棕棗棘棚棟棠棧森棱棻棿椀椅椋植椎椒椙椛検椰椽椿楊楒楓楚楜楠楡楢楧楨業楯楳極楷楸楹楼楽概榆榈榊榎榑榕榛榜榟榮榴榺槀槁槇構槌様槙槺槻槽樂樊樋樑樓樗標模樣権横樫樱樹樺樽橄橋橘橙橞機橡橫檀檎檔檜檩檪檬檳檸櫛櫟櫥櫲櫻欄欅權欖欠次欢欣欧欲欸欺欽款歆歌歐歡止正此步武歩歪歯歳歴歷歸死殇殉殊残殘殡殤殭殯殴段殷殺殻殼殿毅毉母毎每毓比毘毛毫毬氏民氓气氕気氛氢氣水氵氷永氹汀汁求汉汎汐汓汕汗汚汝江池污汤汪汰汲汶決汽汾沁沂沃沄沅沈沉沐沒沓沖沙沚沛没沢沧沪沫沬沭河沵沸油沺治沼況泉泊泋泓法泗泞泠泡波泣泥注泪泫泯泰泳泵泼泽洁洋洒洗洙洛洞津洧洨洪洫洮洱洲洵洸洹洺活洽派流浄浅浈测济浓浚浜浠浣浦浩浪浬浮浴海浸涁涂涅消涌涓涔涙涛涞涠润涩涯液涳涵涼淀淂淇淋淑淓淖淘淙淚淞淡淣淨淩淪淮淯深淳淵淸淺添淼渃清済渉渊渋渓渕渚渝渠渡渣渥渦温測渭港渴游渺渼渾湄湊湋湏湖湘湚湛湧湫湬湮湯湾湿満溈源準溜溝溟溢溥溦溧溪溫溯溱溶滄滇滉滋滐滑滔滕滙滝满滢滨滩滴滸滿漁漂漆漉漎漏漓演漠漢漣漩漪漫漬漸漾漿潇潋潑潓潔潘潛潜潟潤潭潮潺潼潾澁澄澌澍澎澐澔澜澡澤澧澪澰澱澳澹激濃濑濕濟濠濡濤濫濬濮濰濱濵濺瀅瀏瀚瀛瀟瀧瀨瀬瀾灌灏灑灘灜灝灣火灬灯灰灵灸灼災灿炉炎炒炖炙炜炫炭炮炳炸点為炼炽烂烈烏烘烛烝烟烤烦烨热烹烽焉焊焕焗焙焚焜無焦焯焰焱然焻焼煇煉煊煌煒煕煙煜煞煥煦照煩煬煮煱煵熄熈熊熔熙熟熠熨熭熱熹熽熾燁燃燄燈燊燎燐燒燕燚營燦燭燾燿爆爐爛爧爪爭爰爱爵父爷爸爹爺爻爽爾爿牆片版牌牙牛牟牡牧物牵特牽犀犬状犽狀狂狄狐狗狙狛狡狩独狭狮狱狸狼猎猛猜猟猡猥猩猪猫猬献猴猶猷猿獄獅獎獠獣獧獨獲獵獸獻玄率玉王玎玖玗玛玟玡玢玥玦玨玩玫玮环现玲玹玺玻珀珂珅珈珉珊珍珏珑珞珠珣珩班珮珳珺珽現琁球理琇琉琛琝琡琢琤琥琦琨琪琬琮琰琲琳琴琵琼琿瑀瑂瑄瑋瑚瑛瑜瑞瑟瑠瑤瑩瑪瑰瑱瑳瑶瑾璀璁璃璇璋璐璓璘璟璢璣璧璨環璸璽瓅瓊瓏瓔瓜瓢瓦瓶瓷甄甌甕甘甚甜生產産用甩甫田由甲申甴电男甸町画畈界畑畔留畝畠畢略畦番畫畯異畱畳當畹疇疋疍疏疑疗疫疯疲疼疾痔痕痛痞痧痴痹痺瘋瘦療癒癡癫癲癸発登發白百的皆皇皎皐皓皕皛皮皿盃盅盆盈益盎盏盐监盒盖盗盘盛盜盟盠盡監盤盧目盯盲直相盼盾省眉看県眞真眠眷眼眾着睛睜睡督睦睪睫睿瞎瞥瞬瞭瞳瞿矚矜矢知矩矫短矮石矶矿码砂研砕砥砰破砵砸硕硝硬确硲硴碌碍碎碑碓碕碗碧碩碹確碼磁磊磐磗磚磡磧磨磯礁礒示礼社祁祇祈祉祐祖祚祛祜祝神祟祢祤祥票祭祯祷祺祿禁禄禅禎福禤禧禪禮禰禹禺离禾禿秀私秉秋种科秒秘秝租秣秤秦积称移稀程税稔稗稙稚稜種稱稲稻稼稽稿穀穂穅穆積穎穏穐穗穣穩穴究穹空穿突窈窗窝窩窪窯竅竈立站竜竞竟章竣童端競竹竺笅笆笑笔笘笙笛笠符笨第笳笹筆筈等筋筍筑筒答策筛筝筠筩筬筱筵筽简箆箇箏箕箖算箜管箭箱箸節範篇築篝篠篤篥篭簑簗簡簾簿籃籌籍籏籐籔籟籠籣籬籲米籽籾粉粋粒粕粗粘粛粟粥粦粧粮粱粵粹精糀糊糕糖糟糠糧糯糸系紀約紅紋納紐紓純紗紘紙級紛素紡索紧紫累細紳紶紸紹紺終絃組絆絋経結絕絛絜絡絢給絮統絲絳絵絶絹綉經綕継続綜綠綢綣綨綪維綱網綴綵綸綺綽綾綿緊緋総緑緒線緣編緩緯緲練緹緻縁縄縈縓縛縢縣縫縱縹總繁繃繆織繡繣繩繪繭繽繾纈續纐纖纞红纤约级纪纬纭纯纱纲纳纵纶纷纸纹纽纾线练组绅细织终绍经绒结绘给绚络绝统绣绥继绩绪绫续绮绯维绵综绿缇缈缋缌缐缓缔缘缤缥缶缺罅罐罒罓罕罗罚罡罢罪置罰罵罷羀羅羈羊美羚羡羢群羨義羲羽羿翁翅翊翌翎習翔翘翟翠翡翩翫翰翱翲翹翻翼翾耀老考者耆而耐耕耗耘耜耨耳耶耽耿聂聆聊联聖聘聚聞聡聪聯聰聲聶職聽聾聿肁肃肆肇肉肌肖肘肚肛肝肠股肤肥肩肪肯育胃胆背胎胖胜胞胡胤胥胭胶胸能脂脅脆脇脈脉脑脖脚脩脸脹脾腊腕腥腦腩腮腰腱腸腹腾腿膀膏膓膚膜膝膠膳膽臂臉臖臣臥臧臨自臭至致臺臻臼舅與興舊舌舍舎舒舖舘舛舜舞舟舩航般舶船艇艚艦良色艳艶艷艸艹艺艾节芃芊芋芑芒芓芙芝芠芣芥芦芩芫芬芭芮芯花芳芴芷芸芹芽苅苇苍苏苑苓苕苗苛苟苠苡若苦苧苫苯英苹苺苾茁茂范茄茅茉茔茗茛茜茤茨茫茱茲茳茴茵茶茸茹荃荆草荊荍荏荒荔荘荟荡荣荭荳荷荻荼莉莊莎莓莘莙莛莜莣莨莪莫莱莲莳获莹莼菀菁菅菇菈菊菌菏菓菖菜菞菟菠菡菩華菰菱菲菸菻菽菿萄萊萌萍萓萝萠萢萤营萧萨萩萬萱落葆葉葑著葛葡董葦葫葬葭葱葳葵葶葺蒂蒋蒔蒙蒜蒞蒣蒨蒲蒸蒹蒻蒼蒽蓁蓉蓋蓏蓑蓓蓙蓜蓝蓥蓬蓮蓼蔆蔓蔗蔚蔟蔡蔣蔥蔦蔧蔭蔵蔺蔻蔼蕃蕉蕊蕎蕗蕙蕨蕫蕭蕲蕴蕷蕾薄薆薇薈薏薑薔薗薙薛薜薡薦薩薪薫薬薮薯薰藁藃藍藏藕藝藤藥藩藪藰藻蘆蘇蘊蘋蘏蘑蘓蘔蘭蘾蘿虄虎虐虑虔處虚虛虞號虫虹虾蚁蚂蚊蚪蚵蛇蛋蛍蛙蛟蛤蛭蛮蛯蜀蜂蜃蜊蜓蜚蜜蜡蜢蜥蜷蜻蝀蝃蝉蝌蝎蝙蝟蝠蝦蝪蝴蝶蝸螂螃融螞螢螺蟆蟑蟲蟷蟹蟻蠍蠔蠟蠡蠢蠻血衅衆行衍術街衛衝衞衡衣补表衫衬衮衰衿袁袆袈袋袓袖被袴裁裂裃装裏裔裕補裝裟裡裬裳裴裹製裾複褌褏褓褚褲襟襪襲西覀要覃覅覇見規視覚覧親観覺觀见观规觅视览觉角觜解触言訂計訊討訓託記訩訪設許訴訶証詐詔評詞詠詡試詩詮詰話詳詹詺誅誇誉誌認誒誓誘語誠說説読誰課誼調諄談請諌諏諒論諠諦諫諭諮諱諵諸諺諾謀謂謄謎謙謚講謝謴謹證識譙譚譜警議譲護譽譿讀讃變讐讓讚计订讨让训讯记讲讷许论访诀证评识诉诊诏译诒试诗诚话该详语诱说诶请诸诺读调谆谈谊谎谐谙谢谦谨谭谷豆豈豉豊豎豐豔豕豚象豪豫豬豭豹豺貅貓貔貝貞負財貢貧販貫貮貳貴買貸費貽貿賀賃資賈賊賓賛賜賞賠賢賣賦質賴購賽贀贄贈贝贞贡财贤账购贰贱贵贸费贺贻贼贾资赈赋赐赓赖赛赞赢赤赦赫走赳赴赵起超越趙趣足趴跃跋跌跑距跟跡跨跩路跳踏踞踩踪蹈蹟蹤蹦躅躍躑身躺車軌軍軒軟転軸軻軽較載輊輔輕輝輩輪輸輿轅轉轎轟车轨轩转轮软轶轻辅辈辉输辕辛辜辞辣辭辰農边辺辻込达辿迁迅过迈迎运近返还进远违连迟迦迩迪迫迭述迴迷迹迺追退送适逃逅逆选逊逍透逐逑途逖逗這通逝速造逢連週進逸逺逼逽遂遄遅遇遊運過遐道達違遗遙遜遞遠遢遣遥適遲遴選遺遼避邁邂還邉邊邋邏邑邓邝邢那邦邨邪邬邱邵邹邻郁郎郑郝郞郡部郭郵郷郺都郿鄉鄒鄔鄞鄥鄧鄭鄺酃酉酊酋配酒酔酢酥酩酬酵酷酸醉醋醍醐醒醜醫醬醸醺釆采釈釉释釋里重野量金釘釜針釡釣釧釨釼鈍鈐鈑鈕鈞鈣鈦鈮鈴鈺鈿鉃鉄鉅鉈鉛鉢鉱鉾銀銅銑銓銕銘銜銭銮銳鋆鋐鋒鋤鋪鋭鋰鋳鋼錄錋錐錒錕錚錠錡錢錦錫錬錯録錶鍆鍇鍊鍋鍛鍜鍬鍵鍶鍾鎂鎇鎊鎌鎔鎖鎛鎧鎬鎮鏆鏈鏋鏑鏗鏞鏟鏡鏵鏻鐘鐙鐵鑒鑓鑣鑫鑽针钊钕钚钜钟钡钢钥钦钧钮钰钱钲钶钸钻铁铃铎铛铠铤铧铨铭铮铵银铺链销锁锅锋锌锎锐锗锝锟锠锣锤锦锫键锲锴锶锺镁镅镇镒镔镖镜镫镭镱長长門閃閉開閑閒間閔閘閙関閣閬閲閻闆闇闊闒闘關门闪闭问闯闲间闷闹闻阀阁阅阌阎阑阗阙阚阜阝队阡阪阮防阳阴阿陀附际陆陈陌降限陞院陣除陨险陪陰陳陵陶陷陸険陽隅隆隈隊隋階随隐隔際隠隣隧隨險隱隳隴隷隹隻隼隽难隿雀雁雄雅集雇雉雋雌雍雏雑雕雙雛雜雞離難雨雪雯雲零雷電雾需霁霂霄霆震霈霉霊霍霏霓霖霜霞霧霭露霸霹靂靄靈靑青靓靖静靚靜非面革靭靳靴鞋鞍鞘鞠鞥韋韓韦韩韫韬韮音韵韶韻響頁頂頃順須頌預頒頓頔頗領頡頤頨頬頭頰頴頹頻頼顆題額顏顓顔顕願顛類顧顯页顶顺顽顾顿颂预领颉颍颐频颖题颜额颠風颯飄飆风飏飕飘飚飛飞食飠飢飯飲飴飼飽飾餃餅養餌餐餒餓餘館饅饒饗饪饭饮饰饺饼首香馜馥馨馬馮馳馴馷駁駄駆駒駕駝駱駿騎騏験騦騫騮騰騷驀驊驕驗驚驛驢马驰驴驷驻驾驿骄骆骏骑骗骨體高髙髪髭髮鬃鬆鬍鬚鬥鬮鬱鬼魁魂魃魄魅魇魈魉魍魏魑魔魚魯魰魷鮎鮑鮒鮨鮪鮫鮮鯉鯊鯛鯨鰂鰐鰻鱗鱻鱼鲁鲍鲜鲨鲸鳞鳥鳩鳯鳲鳳鳴鴇鴉鴨鴩鴫鴻鴾鴿鵜鵝鵤鵬鵲鵽鶏鶑鶴鷄鷇鷗鷲鷹鷺鸞鸟鸡鸢鸣鸥鸦鸭鸽鸾鸿鹂鹅鹌鹏鹑鹤鹰鹽鹿麂麈麒麓麗麟麥麦麵麺麻麼麽麿黃黄黍黎黑黒黔默黙黛點黟黨鼈鼎鼐鼓鼠鼻鼾齊齋齐齡齢齪齮齷龄龍龐龔龘龙龚龜龟ꀀꀆꀇꀈꀊꀋꀎꀒꀓꀘꀡꀤꀧꀪꀭꀷꀸꁅꁊꁌꁏꁕꁣꁧꁱꁲꁴꁻꂅꂑꂖꂚꂠꂦꂵꃅꃆꃔꃩꃲꃼꄙꄞꄟꅏꅐꅤꆂꆨꆰꆹꇃꇎꇖꇩꈚꈛꈤꈵꈼꉄꉓꉣꊐꊛꊼꋊꋒꋖꋪꋫꋬꌃꌅꌗꌚꌦꌩꍈꍌꍏꍛꍟꍩꎇꎭꏂꏄꏈꏝꏤꏹꏿꐈꐞꑀꑘꒌꓐꓑꓒꓓꓔꓕꓖꓗꓘꓙꓚꓛꓝꓞꓟꓠꓡꓢꓣꓤꓥꓦꓧꓨꓩꓪꓫꓬꓭꓮꓯꓰꓱꓲꓳꓴꓵꓶꓷꓸꓹꓽꔀꔁꔅꔉꔊꔋꔔꔖꔘꔚꔜꔝꔞꔠꔡꔪꔬꔭꔮꔰꔷꔹꔺꔻꔽꕂꕔꕕꕗꕘꕤꕥꕬꕭꕯꕷꕹꕺꕻꖀꖍꖒꖘꖛꖜꖞꖧꖯꖲꖴꖵꖸꖹꖻꖼꖽꗃꗄꗈꗋꗍꗛꗜꗝꗞꗟꗣꗥꗮꗯꗰꗴꗶꘂꘈꘌꘐꘑꘒꘖꘘꘜꘝꙨꙮ꙰꙲ꜭꝄꝅꝫꝮꝯꞀꞍꞪꞫꞬꞮꞰꞱꞲꠀꠇꠎꠖꠝꠞꠡꠣꠤꠥꠦꡰꤋꤎꤚꤢꤧꤨ꤬꤭ꤶꦄꦆꦌꦏꦒꦔꦕꦚꦠꦤꦥꦦꦩꦪꦫꦮꦱꦲ꦳ꦴꦶꦸꦺꦿ꧀꧁꧆ꧼꧾꪋꪔꪖꪜꪲꪳꫛꫝ꫞ꫪꭰꭱꭲꭳꭴꭵꭶꭷꭸꭹꭺꭻꭼꭽꭾꭿꮀꮁꮂꮃꮄꮅꮆꮇꮈꮉꮊꮋꮍꮎꮏꮐꮑꮒꮓꮔꮕꮖꮗꮘꮙꮚꮛꮜꮝꮞꮟꮠꮡꮢꮣꮤꮥꮦꮧꮨꮩꮪꮫꮬꮭꮮꮯꮰꮱꮲꮳꮴꮵꮶꮷꮸꮹꮺꮻꮼꮽꮾꮿꯀꯁꯂꯃꯄꯅꯆꯇꯈꯉꯊꯋꯌꯍꯎꯏꯐꯑꯒꯓꯔꯕꯖꯗꯘꯚꯜꯝꯞꯟꯠꯡꯢꯣꯤꯥꯦꯧꯨꯩꯪ꯭가간갈감갑강같개갠갬갯갸거건걸검겉게겐겔겜겠겨격결겸경계고곡곤곰곳공과곽관괂광교구국군굴궁궇권귀규균그극근글금기긴길김깃깊깐깜꺼께껫꼬꼴꽃꾼꿈끄끌나낙난낟날남납낭낳내낸낼냇냉냐냔너넛네넨넬넴넷녀년녈녕노논녿놀놈놋농놏높놓뇌뇨뇸누눈눌느는늘늙늡늬니닉닌닐님닛닜다단닫달담당닽대댁댄댐댜댠더덕덟데덱델뎌도독돈돌돗동될두둔둘둠둥듀듗드득든듣들딈디딕딘딜딧딩딴떠떰떼또똑뚱뜸띠띰라락란랂랄랅람랍랏랑랒랔랗래랜랟랠랫랭랰랴랼럄량러럭런럼렁렂레렉렌렐렘렛렜렣려력련령례로록론롬롯롱롲롸료룡루룩룬룰룽룾뤠류륜률륭르른를름릉릏릐리릭린릳릴림립릿링맂맆마막만많맏말맘맛망맞맠맡맣매맥맨맹맺먀먕머먼먿멋멍멓메멘멜면멶명모목몪몬몯몰몹못몽뫀뫼묘묨묭묲묳무묵묶문묻뭏므믤미믹민믿밀밋밍밑바박반받발밧방밯배백밴밸뱅버번벌범법벗벙벚베벤벨벳변별병보복본봄봅봉봐부북분불붓붕브븍븐블븧비빅빆빈빌빛빨뿌뿐뿔쁘쁜쁨사산살삼샀상샅새색샌샐샘샛생샤샬샴샹서석선설섭섯성세섹센셀셈셉셔셜셰셸소속손솔송솧솨쇼쇽숀숒숓수숙순술숩숭숸쉐슈슐스슥슨슬슴승시식싞신실싫심십싶싸쌍쌰써썬썽쎌쑹쓰씨씬씸씽아악안앉앋알암압앗앙앞앟애액앤앨앰야약얀얌얏얐양얗얘얜얲어언얼엄업없었엉엏에엔엘엠엦엩여역연열영예옏옐오옥온옫올옴옹옿와완왈왑왓왔왕외왼요욕욘욜용우욱운욷울움웃웅워원월웡웨웬위윅윈윌유육윤율으은읃을음응의이익인일읽임입있잉잌자작잔잘잠장재잭잼잿쟁쟆쟈저적전젊점젓정제젠젤젬져조족종좋좌죠주죽준줄중줘쥍쥐쥔쥬즈즌즐증지직진질짐집짖짜짬째쨔쨨쪽쭈쯔찌차착찬찰참창챀채책천철첨청체첸첻첼쳉쳐초촌촞최추축춘출충취츄츠츼치친칠침카칼캉캔캠커컨케켄켈켓켙켜켱켸코콜콤쿳퀴큐큓크큰큺킊키킨킬킴킿타탁탄탈탉탐탕태택탭탱탷터털테텍텐텔템톄토톤톨톰통투툴튜튠튤튬트튼틀티틴팀팃팅파팍판팑팔패팩팬퍼퍽펀펄페펠펴편평폐포폭폴표푸풀품풋풍퓨픀프픈플피필핏핑하학한핟할함합핫항해핸햄햇했행향허헌헐험헤헥헨헬헷혀혁현혈협형혜호혼홀홍화확환활황회횡효횬후훈훌훨휘휴휸흋흐흑흔흟흠흣흥희흱히힌힏힐힘﨑ﬓﬔﬕﬖﬗﬠﬡﬣﬦﬧﬨשּׂאַאָדּהּוּיּלּמּסּצּקּשּתּפֿﭏﭐﭑﭒﭓﭔﭕﭖﭗﭘﭙﭚﭛﭜﭝﭞﭟﭠﭡﭢﭣﭤﭥﭦﭧﭨﭩﭪﭫﭬﭭﭮﭯﭰﭱﭲﭳﭴﭵﭶﭷﭸﭹﭺﭻﭼﭽﭾﭿﮀﮁﮂﮃﮄﮅﮆﮇﮈﮉﮊﮋﮌﮍﮎﮏﮐﮑﮒﮓﮔﮕﮖﮗﮘﮙﮚﮛﮜﮝﮞﮟﮠﮡﮢﮣﮤﮥﮦﮧﮨﮩﮪﮫﮬﮭﮮﮯﮰﮱﯓﯔﯕﯖﯗﯘﯙﯚﯛﯜﯝﯞﯟﯠﯡﯢﯣﯤﯥﯦﯧﯨﯩﯼﯽﯾﯿﰎﰗﰲﱏﱙﱞﱟﱠﱡﱢﱯﲌﲕﲛﲝﲠﲭﳊﳌﳏﳒﳙﳣﳩﳪﳲﳳﳴﳼﴼﴽ﴾﴿ﶊﷲﷳﷴﷶﷸﷺﷻ︎️︶︻ﹰﹱﹲﹳﹴﹶﹷﹸﹹﹺﹻﹼﹽﹾﹿﺀﺁﺂﺃﺄﺅﺆﺇﺈﺉﺊﺋﺌﺍﺎﺏﺐﺑﺒﺓﺔﺕﺖﺗﺘﺙﺚﺛﺜﺝﺞﺟﺠﺡﺢﺣﺤﺥﺦﺧﺨﺩﺪﺫﺬﺭﺮﺯﺰﺱﺲﺳﺴﺵﺶﺷﺸﺹﺺﺻﺼﺽﺾﺿﻀﻁﻂﻃﻄﻅﻆﻇﻈﻉﻊﻋﻌﻍﻎﻏﻐﻑﻒﻓﻔﻕﻖﻗﻘﻙﻚﻛﻜﻝﻞﻟﻠﻡﻢﻣﻤﻥﻦﻧﻨﻩﻪﻫﻬﻭﻮﻯﻰﻱﻲﻳﻴﻵﻶﻷﻸﻹﻺﻻﻼ！（）＊－．ＡＢＣＤＥＦＧＨＩＪＫＬＭＮＯＰＲＳＴＵＷＸＹＺａｂｃｄｅｆｇｈｉｊｋｌｍｎｏｐｑｒｓｔｕｖｗｘｙｚ～｡､ｧｨｰｱｲｴｶｺｻｼｽﾂﾉﾊﾌﾐﾒﾕﾗﾘﾙﾚﾛﾝﾞﾠﾶ�𝓐𝓓𝓗𝓘𝓚𝓛𝓝\n",
      "\n",
      "Target classes: Central Asia, Northern Africa, South-eastern Asia, Eastern Asia, Caribbean, Central America, Northern Europe, Southern Asia, Western Africa, Southern Europe, Northern America, Eastern Africa, Southern Africa, South America, Western Europe, Melanesia, Eastern Europe, Western Asia, Middle Africa\n"
     ]
    }
   ],
   "source": [
    "import pandas as pd\n",
    "import numpy as np\n",
    "import country_converter as coco\n",
    "import mlflow\n",
    "import torch\n",
    "import torch.nn as nn\n",
    "import torch.nn.functional as F\n",
    "import torch.optim as optim\n",
    "from torch.utils.data import DataLoader\n",
    "from torchinfo import summary\n",
    "from utils.data import NameNationalityData, NameNationalityDataStream\n",
    "from utils.model import RNN_Nationality_Predictor\n",
    "from sklearn.metrics import roc_auc_score, average_precision_score\n",
    "import lightning as L\n",
    "from pytorch_lightning.loggers import MLFlowLogger\n",
    "from lightning.pytorch.callbacks import LearningRateMonitor, EarlyStopping\n",
    "from torch.optim.lr_scheduler import SequentialLR, LinearLR, CosineAnnealingLR, ConstantLR\n",
    "\n",
    "device: str = (\n",
    "    \"cuda\"\n",
    "    if torch.cuda.is_available()\n",
    "    else \"mps\"\n",
    "    if torch.backends.mps.is_available()\n",
    "    else \"cpu\"\n",
    ")\n",
    "print(f\"Using {device} device\")\n",
    "\n",
    "# parameters\n",
    "MAXIMUM_NAME_LENGTH: int = 40 # maximum number of characters\n",
    "BATCH_SIZE: int = 2048 # number of training examples per batch\n",
    "N_EVAL: int = 100 # evaluate loss every n batches\n",
    "MAX_EPOCHS: int = 10\n",
    "\n",
    "# hyperparameters\n",
    "ARCHITECTURE = 'LSTM' # one of 'RNN', 'GRU' or 'LSTM'\n",
    "EMBEDDING_DIM = 64 # number of dimensions of embedded tensor\n",
    "HIDDEN_SIZE = 128 # number of neurons in hidden layer of rnn\n",
    "NUM_RNN_LAYERS = 3 # number of stacked rnn layers\n",
    "DROPOUT = 0.3 # dropout probability\n",
    "\n",
    "# read country codes\n",
    "with open('./data/.country_codes', 'r') as f:\n",
    "    COUNTRY_CODES: list = f.read().splitlines()\n",
    "print(f'Country codes: {\", \".join(COUNTRY_CODES)}')\n",
    "\n",
    "#read vocabulary (all unique characters used in the dataset)\n",
    "with open('./data/.vocabulary', 'r') as f:\n",
    "    VOCABULARY: str = f.read()\n",
    "print(f'Vocabulary: {VOCABULARY}')\n",
    "\n",
    "# generate country code mappings\n",
    "target_class: str = 'UNregion' # see country_converter documentation on PyPI for available classes\n",
    "COUNTRY_MAPPING: dict = {cc: coco.convert(names=cc, to=target_class) for cc in COUNTRY_CODES} \n",
    "print(f'Target classes: {\", \".join(list(set(COUNTRY_MAPPING.values())))}')"
   ]
  },
  {
   "cell_type": "markdown",
   "metadata": {},
   "source": [
    "### **IMPORT DATA**\n",
    "\n",
    "- train.csv gets streamed in chunks\n",
    "- val.csv will be loaded into memory as a whole\n",
    "- name strings will be encoded as integer tensors where index i maps to the i-th character in the vocabulary\n",
    "- zero will be used as padding index, names longer than max_name_length will be truncated\n",
    "- the tensors will have a shape of (batch_size, max_name_length)\n",
    "- the dataset also generates a tensor of shape (batch_size) that holds the sequence length (number of characters) of the current name\n",
    "- countries will be converted to one-hot-encoded tensors of shape (batch_size, n_countries+1) where n_countries is the number of output classes in the COUNTRY_MAPPING dictionary"
   ]
  },
  {
   "cell_type": "code",
   "execution_count": 2,
   "metadata": {},
   "outputs": [],
   "source": [
    "train_data = NameNationalityDataStream(\n",
    "    data_file='./data/train.csv',\n",
    "    chunksize=BATCH_SIZE,\n",
    "    maximum_name_length=MAXIMUM_NAME_LENGTH,\n",
    "    vocabulary=VOCABULARY,\n",
    "    country_codes=COUNTRY_CODES,\n",
    "    country_mapping=COUNTRY_MAPPING\n",
    ")\n",
    "train_dataloader = DataLoader(train_data, batch_size=BATCH_SIZE)"
   ]
  },
  {
   "cell_type": "code",
   "execution_count": 3,
   "metadata": {},
   "outputs": [
    {
     "name": "stdout",
     "output_type": "stream",
     "text": [
      "Dataset has 4882176 records.\n"
     ]
    }
   ],
   "source": [
    "val_data = NameNationalityData(\n",
    "    data_file='./data/val.csv',\n",
    "    maximum_name_length=MAXIMUM_NAME_LENGTH,\n",
    "    vocabulary=VOCABULARY,\n",
    "    country_codes=COUNTRY_CODES,\n",
    "    country_mapping=COUNTRY_MAPPING\n",
    ")\n",
    "val_dataloader = DataLoader(val_data, batch_size=BATCH_SIZE, shuffle=True, drop_last=True)"
   ]
  },
  {
   "cell_type": "markdown",
   "metadata": {},
   "source": [
    "### **MODELING**\n",
    "\n",
    "- Create simple model using character embeddings, rnn layers and a dense layer\n",
    "- embedding layer maps input tensor of shape (batch_size, max_name_length) to embedding tensor of shape (batch_size, max_name_length, embedding_dim)\n",
    "- the embedding tensor and sequence_lengths tensor will be used to [pack a padded batch](https://pytorch.org/docs/stable/generated/torch.nn.utils.rnn.pack_padded_sequence.html), which enables variable length inputs\n",
    "- the packed sequence will be passed to the rnn layer \n",
    "- the hidden state of the last rnn layer will be used passed through a dense layer to create an output of shape (batch_size, n_countries+1), where where n_countries is the number of output classes in the COUNTRY_MAPPING dictionary"
   ]
  },
  {
   "cell_type": "code",
   "execution_count": 4,
   "metadata": {},
   "outputs": [],
   "source": [
    "# PyTorch Lightning Wrapper\n",
    "class LightningModelWrapper(L.LightningModule):\n",
    "    def __init__(self, mlflow_logger, model, criterion):\n",
    "        super().__init__()\n",
    "        self.mlflow_logger = mlflow_logger\n",
    "\n",
    "        # log model summary and model hyperparameters\n",
    "        self.model = model\n",
    "        with open(\"model_summary.txt\", \"w\") as f:\n",
    "            f.write(str(summary(self.model)))\n",
    "        self.mlflow_logger.experiment.log_artifact(local_path=\"model_summary.txt\", run_id=self.mlflow_logger.run_id)\n",
    "        hyperparams = {\n",
    "            \"architecture\": self.model.architecture,\n",
    "            \"embedding_dim\": self.model.embedding_dim,\n",
    "            \"hidden_size\": self.model.hidden_size,\n",
    "            \"num_rnn_layers\": self.model.num_rnn_layers,\n",
    "            \"dropout\": self.model.dropout\n",
    "        }\n",
    "        self.mlflow_logger.log_hyperparams(hyperparams)\n",
    "        \n",
    "        # log criterion\n",
    "        self.criterion = criterion\n",
    "        self.mlflow_logger.log_hyperparams({'criterion': self.criterion.__name__})\n",
    "\n",
    "    def training_step(self, batch):\n",
    "        X, y, seq_lengths = batch\n",
    "        logits = self.model(X, seq_lengths)\n",
    "        loss = self.criterion(logits, y)\n",
    "        self.log('train_loss', loss)\n",
    "        return loss\n",
    "    \n",
    "    def validation_step(self, batch):\n",
    "        X, y, seq_lengths = batch\n",
    "        logits = self.model(X, seq_lengths)\n",
    "        loss = self.criterion(logits, y)\n",
    "        self.log('val_loss', loss)\n",
    "        self.log('micro_average_precision_score', average_precision_score(y.detach().cpu().T, logits.detach().cpu().T, average='micro'))\n",
    "        self.log('micro_average_roc_auc_score', roc_auc_score(y.detach().cpu().T, logits.detach().cpu().T, multi_class='ovo'))\n",
    "        return loss\n",
    "\n",
    "    def configure_optimizers(self):\n",
    "        # instantiate learning rate schedule\n",
    "        warmup_steps = 1000 # number of steps for warmup\n",
    "        cosine_steps = 10000 # number of steps for cosine annealing\n",
    "        max_lr = 1e-2 # maximum learning rate when warmup ends and cosine annealing starts\n",
    "        min_lr = 1e-5 # minimum learning rate after cosine annealing ends\n",
    "\n",
    "        # instantiate optimizer\n",
    "        optimizer = optim.AdamW(self.parameters(), lr=max_lr)\n",
    "        self.mlflow_logger.log_hyperparams({'optimizer': optimizer.__class__.__name__})\n",
    "\n",
    "        # Warmup: scales LR from 1e-3×base to base LR over `warmup_steps`\n",
    "        warmup_scheduler = LinearLR(optimizer, start_factor=1e-4, end_factor=1.0, total_iters=warmup_steps)\n",
    "\n",
    "        # Cosine annealing: decays LR from base to η_min (1e-5) over `cosine_steps`\n",
    "        cosine_scheduler = CosineAnnealingLR(optimizer, T_max=cosine_steps, eta_min=min_lr)\n",
    "\n",
    "        # Constant phase: hold the LR at eta_min.\n",
    "        constant_scheduler = ConstantLR(optimizer, factor=min_lr/max_lr, total_iters=1e10)\n",
    "\n",
    "        # Combine all three using SequentialLR.\n",
    "        scheduler = SequentialLR(\n",
    "            optimizer,\n",
    "            schedulers=[warmup_scheduler, cosine_scheduler, constant_scheduler],\n",
    "            milestones=[warmup_steps, warmup_steps + cosine_steps]\n",
    "        )\n",
    "        return [optimizer], [{\"scheduler\": scheduler, \"interval\": \"step\", \"frequency\": 1}]"
   ]
  },
  {
   "cell_type": "code",
   "execution_count": 5,
   "metadata": {},
   "outputs": [
    {
     "name": "stderr",
     "output_type": "stream",
     "text": [
      "GPU available: True (mps), used: True\n",
      "TPU available: False, using: 0 TPU cores\n",
      "HPU available: False, using: 0 HPUs\n",
      "\n",
      "  | Name  | Type                      | Params | Mode \n",
      "------------------------------------------------------------\n",
      "0 | model | RNN_Nationality_Predictor | 1.1 M  | train\n",
      "------------------------------------------------------------\n",
      "1.1 M     Trainable params\n",
      "0         Non-trainable params\n",
      "1.1 M     Total params\n",
      "4.515     Total estimated model params size (MB)\n",
      "6         Modules in train mode\n",
      "0         Modules in eval mode\n"
     ]
    },
    {
     "data": {
      "application/vnd.jupyter.widget-view+json": {
       "model_id": "79ed8e1b552943deb141c47725b61492",
       "version_major": 2,
       "version_minor": 0
      },
      "text/plain": [
       "Sanity Checking: |          | 0/? [00:00<?, ?it/s]"
      ]
     },
     "metadata": {},
     "output_type": "display_data"
    },
    {
     "name": "stderr",
     "output_type": "stream",
     "text": [
      "/Users/haukesteffen/miniconda3/envs/LearningPyTorch/lib/python3.12/site-packages/lightning/pytorch/trainer/connectors/data_connector.py:476: Your `val_dataloader`'s sampler has shuffling enabled, it is strongly recommended that you turn shuffling off for val/test dataloaders.\n",
      "/Users/haukesteffen/miniconda3/envs/LearningPyTorch/lib/python3.12/site-packages/lightning/pytorch/trainer/connectors/data_connector.py:425: The 'val_dataloader' does not have many workers which may be a bottleneck. Consider increasing the value of the `num_workers` argument` to `num_workers=7` in the `DataLoader` to improve performance.\n",
      "/Users/haukesteffen/miniconda3/envs/LearningPyTorch/lib/python3.12/site-packages/lightning/pytorch/trainer/connectors/data_connector.py:425: The 'train_dataloader' does not have many workers which may be a bottleneck. Consider increasing the value of the `num_workers` argument` to `num_workers=7` in the `DataLoader` to improve performance.\n"
     ]
    },
    {
     "data": {
      "application/vnd.jupyter.widget-view+json": {
       "model_id": "8e355a66520a4677b91ccdc2a52ae04f",
       "version_major": 2,
       "version_minor": 0
      },
      "text/plain": [
       "Training: |          | 0/? [00:00<?, ?it/s]"
      ]
     },
     "metadata": {},
     "output_type": "display_data"
    },
    {
     "data": {
      "application/vnd.jupyter.widget-view+json": {
       "model_id": "c820c61a1a7e4ae189b6bf43122ee8eb",
       "version_major": 2,
       "version_minor": 0
      },
      "text/plain": [
       "Validation: |          | 0/? [00:00<?, ?it/s]"
      ]
     },
     "metadata": {},
     "output_type": "display_data"
    },
    {
     "data": {
      "application/vnd.jupyter.widget-view+json": {
       "model_id": "11b7c4f3beb74af2ab7f108c18808c1d",
       "version_major": 2,
       "version_minor": 0
      },
      "text/plain": [
       "Validation: |          | 0/? [00:00<?, ?it/s]"
      ]
     },
     "metadata": {},
     "output_type": "display_data"
    },
    {
     "data": {
      "application/vnd.jupyter.widget-view+json": {
       "model_id": "7bfe1b7c2e9e4b228b2b8948f8666d3f",
       "version_major": 2,
       "version_minor": 0
      },
      "text/plain": [
       "Validation: |          | 0/? [00:00<?, ?it/s]"
      ]
     },
     "metadata": {},
     "output_type": "display_data"
    },
    {
     "data": {
      "application/vnd.jupyter.widget-view+json": {
       "model_id": "dd7fd82e79b04aa99efedc4def5b7d9d",
       "version_major": 2,
       "version_minor": 0
      },
      "text/plain": [
       "Validation: |          | 0/? [00:00<?, ?it/s]"
      ]
     },
     "metadata": {},
     "output_type": "display_data"
    },
    {
     "data": {
      "application/vnd.jupyter.widget-view+json": {
       "model_id": "77e07df90e0144b5adaed81fc9ebf34e",
       "version_major": 2,
       "version_minor": 0
      },
      "text/plain": [
       "Validation: |          | 0/? [00:00<?, ?it/s]"
      ]
     },
     "metadata": {},
     "output_type": "display_data"
    },
    {
     "data": {
      "application/vnd.jupyter.widget-view+json": {
       "model_id": "6abc8eda97a64c6b921bf9e25732d7d4",
       "version_major": 2,
       "version_minor": 0
      },
      "text/plain": [
       "Validation: |          | 0/? [00:00<?, ?it/s]"
      ]
     },
     "metadata": {},
     "output_type": "display_data"
    },
    {
     "data": {
      "application/vnd.jupyter.widget-view+json": {
       "model_id": "8c84dd46df3c4afd99ab06de48e778c0",
       "version_major": 2,
       "version_minor": 0
      },
      "text/plain": [
       "Validation: |          | 0/? [00:00<?, ?it/s]"
      ]
     },
     "metadata": {},
     "output_type": "display_data"
    },
    {
     "data": {
      "application/vnd.jupyter.widget-view+json": {
       "model_id": "c5d8f86dd2cb49dcb5ae6bf8b69a2cad",
       "version_major": 2,
       "version_minor": 0
      },
      "text/plain": [
       "Validation: |          | 0/? [00:00<?, ?it/s]"
      ]
     },
     "metadata": {},
     "output_type": "display_data"
    },
    {
     "data": {
      "application/vnd.jupyter.widget-view+json": {
       "model_id": "ba1bcf6785c94c0f8f9f8799146cf15c",
       "version_major": 2,
       "version_minor": 0
      },
      "text/plain": [
       "Validation: |          | 0/? [00:00<?, ?it/s]"
      ]
     },
     "metadata": {},
     "output_type": "display_data"
    },
    {
     "name": "stderr",
     "output_type": "stream",
     "text": [
      "/Users/haukesteffen/miniconda3/envs/LearningPyTorch/lib/python3.12/site-packages/torch/optim/lr_scheduler.py:240: UserWarning: The epoch parameter in `scheduler.step()` was not necessary and is being deprecated where possible. Please use `scheduler.step()` to step the scheduler. During the deprecation, if epoch is different from None, the closed form is used instead of the new chainable form, where available. Please open an issue if you are unable to replicate your use case: https://github.com/pytorch/pytorch/issues/new/choose.\n",
      "  warnings.warn(EPOCH_DEPRECATION_WARNING, UserWarning)\n"
     ]
    },
    {
     "data": {
      "application/vnd.jupyter.widget-view+json": {
       "model_id": "5d24ea330c5b49e28c2fe374e26a0365",
       "version_major": 2,
       "version_minor": 0
      },
      "text/plain": [
       "Validation: |          | 0/? [00:00<?, ?it/s]"
      ]
     },
     "metadata": {},
     "output_type": "display_data"
    },
    {
     "data": {
      "application/vnd.jupyter.widget-view+json": {
       "model_id": "604f2b6319974639bce98528f3c2bae5",
       "version_major": 2,
       "version_minor": 0
      },
      "text/plain": [
       "Validation: |          | 0/? [00:00<?, ?it/s]"
      ]
     },
     "metadata": {},
     "output_type": "display_data"
    },
    {
     "data": {
      "application/vnd.jupyter.widget-view+json": {
       "model_id": "9a6b8fa6cdb14194a7fd9251ff2cf4b6",
       "version_major": 2,
       "version_minor": 0
      },
      "text/plain": [
       "Validation: |          | 0/? [00:00<?, ?it/s]"
      ]
     },
     "metadata": {},
     "output_type": "display_data"
    },
    {
     "data": {
      "application/vnd.jupyter.widget-view+json": {
       "model_id": "f1772a72c92242268c61b6f2cecafb07",
       "version_major": 2,
       "version_minor": 0
      },
      "text/plain": [
       "Validation: |          | 0/? [00:00<?, ?it/s]"
      ]
     },
     "metadata": {},
     "output_type": "display_data"
    },
    {
     "data": {
      "application/vnd.jupyter.widget-view+json": {
       "model_id": "bc119dbd5cee4f3c8bb3f4ea7e917055",
       "version_major": 2,
       "version_minor": 0
      },
      "text/plain": [
       "Validation: |          | 0/? [00:00<?, ?it/s]"
      ]
     },
     "metadata": {},
     "output_type": "display_data"
    },
    {
     "data": {
      "application/vnd.jupyter.widget-view+json": {
       "model_id": "7ad519e6dc50460987fe829bcf26d0fe",
       "version_major": 2,
       "version_minor": 0
      },
      "text/plain": [
       "Validation: |          | 0/? [00:00<?, ?it/s]"
      ]
     },
     "metadata": {},
     "output_type": "display_data"
    },
    {
     "data": {
      "application/vnd.jupyter.widget-view+json": {
       "model_id": "bdfbf1955c4c40d68bec4200f391701c",
       "version_major": 2,
       "version_minor": 0
      },
      "text/plain": [
       "Validation: |          | 0/? [00:00<?, ?it/s]"
      ]
     },
     "metadata": {},
     "output_type": "display_data"
    },
    {
     "data": {
      "application/vnd.jupyter.widget-view+json": {
       "model_id": "7d3bc14fb9cf46bb9b84c72a09b2a91e",
       "version_major": 2,
       "version_minor": 0
      },
      "text/plain": [
       "Validation: |          | 0/? [00:00<?, ?it/s]"
      ]
     },
     "metadata": {},
     "output_type": "display_data"
    },
    {
     "data": {
      "application/vnd.jupyter.widget-view+json": {
       "model_id": "5306cddfea6f42c98c827b2db26d5d70",
       "version_major": 2,
       "version_minor": 0
      },
      "text/plain": [
       "Validation: |          | 0/? [00:00<?, ?it/s]"
      ]
     },
     "metadata": {},
     "output_type": "display_data"
    },
    {
     "data": {
      "application/vnd.jupyter.widget-view+json": {
       "model_id": "98008484bd704319a45b89d3cb0e9d97",
       "version_major": 2,
       "version_minor": 0
      },
      "text/plain": [
       "Validation: |          | 0/? [00:00<?, ?it/s]"
      ]
     },
     "metadata": {},
     "output_type": "display_data"
    },
    {
     "data": {
      "application/vnd.jupyter.widget-view+json": {
       "model_id": "565e094672034b758b5d36393c428580",
       "version_major": 2,
       "version_minor": 0
      },
      "text/plain": [
       "Validation: |          | 0/? [00:00<?, ?it/s]"
      ]
     },
     "metadata": {},
     "output_type": "display_data"
    },
    {
     "data": {
      "application/vnd.jupyter.widget-view+json": {
       "model_id": "bef9b46a69ce49c388a17f8588ce018b",
       "version_major": 2,
       "version_minor": 0
      },
      "text/plain": [
       "Validation: |          | 0/? [00:00<?, ?it/s]"
      ]
     },
     "metadata": {},
     "output_type": "display_data"
    },
    {
     "data": {
      "application/vnd.jupyter.widget-view+json": {
       "model_id": "f2a416a218604d1bbceecc21c877dbad",
       "version_major": 2,
       "version_minor": 0
      },
      "text/plain": [
       "Validation: |          | 0/? [00:00<?, ?it/s]"
      ]
     },
     "metadata": {},
     "output_type": "display_data"
    },
    {
     "data": {
      "application/vnd.jupyter.widget-view+json": {
       "model_id": "6699cc24b7fb48f49572dd8ce8c271a8",
       "version_major": 2,
       "version_minor": 0
      },
      "text/plain": [
       "Validation: |          | 0/? [00:00<?, ?it/s]"
      ]
     },
     "metadata": {},
     "output_type": "display_data"
    },
    {
     "data": {
      "application/vnd.jupyter.widget-view+json": {
       "model_id": "a10c3f593e2048488679939c736dfb4d",
       "version_major": 2,
       "version_minor": 0
      },
      "text/plain": [
       "Validation: |          | 0/? [00:00<?, ?it/s]"
      ]
     },
     "metadata": {},
     "output_type": "display_data"
    },
    {
     "data": {
      "application/vnd.jupyter.widget-view+json": {
       "model_id": "76a5af0855734cc5a3672e9b7980832c",
       "version_major": 2,
       "version_minor": 0
      },
      "text/plain": [
       "Validation: |          | 0/? [00:00<?, ?it/s]"
      ]
     },
     "metadata": {},
     "output_type": "display_data"
    },
    {
     "data": {
      "application/vnd.jupyter.widget-view+json": {
       "model_id": "0c3c5fd28620433783fc229f258c333c",
       "version_major": 2,
       "version_minor": 0
      },
      "text/plain": [
       "Validation: |          | 0/? [00:00<?, ?it/s]"
      ]
     },
     "metadata": {},
     "output_type": "display_data"
    },
    {
     "data": {
      "application/vnd.jupyter.widget-view+json": {
       "model_id": "114d0bfbe59b469097717e1dddcb2679",
       "version_major": 2,
       "version_minor": 0
      },
      "text/plain": [
       "Validation: |          | 0/? [00:00<?, ?it/s]"
      ]
     },
     "metadata": {},
     "output_type": "display_data"
    },
    {
     "data": {
      "application/vnd.jupyter.widget-view+json": {
       "model_id": "a24592e464324e37b24cabc249a7307a",
       "version_major": 2,
       "version_minor": 0
      },
      "text/plain": [
       "Validation: |          | 0/? [00:00<?, ?it/s]"
      ]
     },
     "metadata": {},
     "output_type": "display_data"
    },
    {
     "data": {
      "application/vnd.jupyter.widget-view+json": {
       "model_id": "aa770949c66f4917af838ce1beb35de3",
       "version_major": 2,
       "version_minor": 0
      },
      "text/plain": [
       "Validation: |          | 0/? [00:00<?, ?it/s]"
      ]
     },
     "metadata": {},
     "output_type": "display_data"
    },
    {
     "data": {
      "application/vnd.jupyter.widget-view+json": {
       "model_id": "53d7ef957c9b4a31aa0ebe07a46ac658",
       "version_major": 2,
       "version_minor": 0
      },
      "text/plain": [
       "Validation: |          | 0/? [00:00<?, ?it/s]"
      ]
     },
     "metadata": {},
     "output_type": "display_data"
    },
    {
     "data": {
      "application/vnd.jupyter.widget-view+json": {
       "model_id": "0e057311b2a9449cb3d881facf0c7aed",
       "version_major": 2,
       "version_minor": 0
      },
      "text/plain": [
       "Validation: |          | 0/? [00:00<?, ?it/s]"
      ]
     },
     "metadata": {},
     "output_type": "display_data"
    },
    {
     "data": {
      "application/vnd.jupyter.widget-view+json": {
       "model_id": "8e6985abba774c9bab8d1a26f36c5aa9",
       "version_major": 2,
       "version_minor": 0
      },
      "text/plain": [
       "Validation: |          | 0/? [00:00<?, ?it/s]"
      ]
     },
     "metadata": {},
     "output_type": "display_data"
    },
    {
     "data": {
      "application/vnd.jupyter.widget-view+json": {
       "model_id": "eb427b6fd5f84361967dc2818cec36ef",
       "version_major": 2,
       "version_minor": 0
      },
      "text/plain": [
       "Validation: |          | 0/? [00:00<?, ?it/s]"
      ]
     },
     "metadata": {},
     "output_type": "display_data"
    },
    {
     "data": {
      "application/vnd.jupyter.widget-view+json": {
       "model_id": "e9f3fff689f941ecbcdd6b370bdd740b",
       "version_major": 2,
       "version_minor": 0
      },
      "text/plain": [
       "Validation: |          | 0/? [00:00<?, ?it/s]"
      ]
     },
     "metadata": {},
     "output_type": "display_data"
    },
    {
     "data": {
      "application/vnd.jupyter.widget-view+json": {
       "model_id": "618c71bc3c43471dae897a41a85f45b4",
       "version_major": 2,
       "version_minor": 0
      },
      "text/plain": [
       "Validation: |          | 0/? [00:00<?, ?it/s]"
      ]
     },
     "metadata": {},
     "output_type": "display_data"
    },
    {
     "data": {
      "application/vnd.jupyter.widget-view+json": {
       "model_id": "7ae5fcc463fc46908a7a959695b22fbd",
       "version_major": 2,
       "version_minor": 0
      },
      "text/plain": [
       "Validation: |          | 0/? [00:00<?, ?it/s]"
      ]
     },
     "metadata": {},
     "output_type": "display_data"
    },
    {
     "data": {
      "application/vnd.jupyter.widget-view+json": {
       "model_id": "9d22af814d8e43b49aaeba0c08071bfe",
       "version_major": 2,
       "version_minor": 0
      },
      "text/plain": [
       "Validation: |          | 0/? [00:00<?, ?it/s]"
      ]
     },
     "metadata": {},
     "output_type": "display_data"
    },
    {
     "data": {
      "application/vnd.jupyter.widget-view+json": {
       "model_id": "4f7cef5c8c764510984761afd7b95bad",
       "version_major": 2,
       "version_minor": 0
      },
      "text/plain": [
       "Validation: |          | 0/? [00:00<?, ?it/s]"
      ]
     },
     "metadata": {},
     "output_type": "display_data"
    },
    {
     "data": {
      "application/vnd.jupyter.widget-view+json": {
       "model_id": "6cf61abb310e470d9273c9497c9dc608",
       "version_major": 2,
       "version_minor": 0
      },
      "text/plain": [
       "Validation: |          | 0/? [00:00<?, ?it/s]"
      ]
     },
     "metadata": {},
     "output_type": "display_data"
    },
    {
     "data": {
      "application/vnd.jupyter.widget-view+json": {
       "model_id": "98f8237076434e7f80a05ad1534f801e",
       "version_major": 2,
       "version_minor": 0
      },
      "text/plain": [
       "Validation: |          | 0/? [00:00<?, ?it/s]"
      ]
     },
     "metadata": {},
     "output_type": "display_data"
    },
    {
     "data": {
      "application/vnd.jupyter.widget-view+json": {
       "model_id": "0ca0a49cca4249c291f8f922ea3215b5",
       "version_major": 2,
       "version_minor": 0
      },
      "text/plain": [
       "Validation: |          | 0/? [00:00<?, ?it/s]"
      ]
     },
     "metadata": {},
     "output_type": "display_data"
    },
    {
     "data": {
      "application/vnd.jupyter.widget-view+json": {
       "model_id": "1170304ad91a4cd798e1fe4fd3892e29",
       "version_major": 2,
       "version_minor": 0
      },
      "text/plain": [
       "Validation: |          | 0/? [00:00<?, ?it/s]"
      ]
     },
     "metadata": {},
     "output_type": "display_data"
    },
    {
     "data": {
      "application/vnd.jupyter.widget-view+json": {
       "model_id": "54f3d6f0ff4e472b9a783c3f1afb2f2f",
       "version_major": 2,
       "version_minor": 0
      },
      "text/plain": [
       "Validation: |          | 0/? [00:00<?, ?it/s]"
      ]
     },
     "metadata": {},
     "output_type": "display_data"
    },
    {
     "data": {
      "application/vnd.jupyter.widget-view+json": {
       "model_id": "82d7773406614929a36c49229c46e9ec",
       "version_major": 2,
       "version_minor": 0
      },
      "text/plain": [
       "Validation: |          | 0/? [00:00<?, ?it/s]"
      ]
     },
     "metadata": {},
     "output_type": "display_data"
    },
    {
     "data": {
      "application/vnd.jupyter.widget-view+json": {
       "model_id": "d84361faace1449386081b366643b431",
       "version_major": 2,
       "version_minor": 0
      },
      "text/plain": [
       "Validation: |          | 0/? [00:00<?, ?it/s]"
      ]
     },
     "metadata": {},
     "output_type": "display_data"
    },
    {
     "data": {
      "application/vnd.jupyter.widget-view+json": {
       "model_id": "c8ee06773ef2466da91e0c45cac569cd",
       "version_major": 2,
       "version_minor": 0
      },
      "text/plain": [
       "Validation: |          | 0/? [00:00<?, ?it/s]"
      ]
     },
     "metadata": {},
     "output_type": "display_data"
    },
    {
     "data": {
      "application/vnd.jupyter.widget-view+json": {
       "model_id": "3f3f9033cbee4ad8bc38b251655bfac0",
       "version_major": 2,
       "version_minor": 0
      },
      "text/plain": [
       "Validation: |          | 0/? [00:00<?, ?it/s]"
      ]
     },
     "metadata": {},
     "output_type": "display_data"
    },
    {
     "data": {
      "application/vnd.jupyter.widget-view+json": {
       "model_id": "6eec86d9949746bba6dbc6a169fcbdb8",
       "version_major": 2,
       "version_minor": 0
      },
      "text/plain": [
       "Validation: |          | 0/? [00:00<?, ?it/s]"
      ]
     },
     "metadata": {},
     "output_type": "display_data"
    },
    {
     "data": {
      "application/vnd.jupyter.widget-view+json": {
       "model_id": "72ccf508c5f74b07ba5696a128be312b",
       "version_major": 2,
       "version_minor": 0
      },
      "text/plain": [
       "Validation: |          | 0/? [00:00<?, ?it/s]"
      ]
     },
     "metadata": {},
     "output_type": "display_data"
    },
    {
     "data": {
      "application/vnd.jupyter.widget-view+json": {
       "model_id": "13474d85d0a44a57ae9a2fe7fbada551",
       "version_major": 2,
       "version_minor": 0
      },
      "text/plain": [
       "Validation: |          | 0/? [00:00<?, ?it/s]"
      ]
     },
     "metadata": {},
     "output_type": "display_data"
    },
    {
     "data": {
      "application/vnd.jupyter.widget-view+json": {
       "model_id": "80ef14b8e70d461c8288f72d30d316b8",
       "version_major": 2,
       "version_minor": 0
      },
      "text/plain": [
       "Validation: |          | 0/? [00:00<?, ?it/s]"
      ]
     },
     "metadata": {},
     "output_type": "display_data"
    },
    {
     "data": {
      "application/vnd.jupyter.widget-view+json": {
       "model_id": "5c8d5a559d20428b88abbf5510b56a0c",
       "version_major": 2,
       "version_minor": 0
      },
      "text/plain": [
       "Validation: |          | 0/? [00:00<?, ?it/s]"
      ]
     },
     "metadata": {},
     "output_type": "display_data"
    },
    {
     "data": {
      "application/vnd.jupyter.widget-view+json": {
       "model_id": "8f375299a58e47488a5d7bb5f3be6e8b",
       "version_major": 2,
       "version_minor": 0
      },
      "text/plain": [
       "Validation: |          | 0/? [00:00<?, ?it/s]"
      ]
     },
     "metadata": {},
     "output_type": "display_data"
    },
    {
     "data": {
      "application/vnd.jupyter.widget-view+json": {
       "model_id": "38f91d3e1bdc4c71911ab05a09aed198",
       "version_major": 2,
       "version_minor": 0
      },
      "text/plain": [
       "Validation: |          | 0/? [00:00<?, ?it/s]"
      ]
     },
     "metadata": {},
     "output_type": "display_data"
    },
    {
     "data": {
      "application/vnd.jupyter.widget-view+json": {
       "model_id": "f25fcf0b2ebe4e3c9fef0c3c88a8a255",
       "version_major": 2,
       "version_minor": 0
      },
      "text/plain": [
       "Validation: |          | 0/? [00:00<?, ?it/s]"
      ]
     },
     "metadata": {},
     "output_type": "display_data"
    },
    {
     "data": {
      "application/vnd.jupyter.widget-view+json": {
       "model_id": "840f932991514e4287c3f9ebf0f6ecee",
       "version_major": 2,
       "version_minor": 0
      },
      "text/plain": [
       "Validation: |          | 0/? [00:00<?, ?it/s]"
      ]
     },
     "metadata": {},
     "output_type": "display_data"
    },
    {
     "data": {
      "application/vnd.jupyter.widget-view+json": {
       "model_id": "eac4050662e041819c26b58c5231a389",
       "version_major": 2,
       "version_minor": 0
      },
      "text/plain": [
       "Validation: |          | 0/? [00:00<?, ?it/s]"
      ]
     },
     "metadata": {},
     "output_type": "display_data"
    },
    {
     "data": {
      "application/vnd.jupyter.widget-view+json": {
       "model_id": "5b18c2906d204fcda0594becf93f1167",
       "version_major": 2,
       "version_minor": 0
      },
      "text/plain": [
       "Validation: |          | 0/? [00:00<?, ?it/s]"
      ]
     },
     "metadata": {},
     "output_type": "display_data"
    },
    {
     "data": {
      "application/vnd.jupyter.widget-view+json": {
       "model_id": "037ad51c0b0b44c4b388b8486e87df0c",
       "version_major": 2,
       "version_minor": 0
      },
      "text/plain": [
       "Validation: |          | 0/? [00:00<?, ?it/s]"
      ]
     },
     "metadata": {},
     "output_type": "display_data"
    },
    {
     "data": {
      "application/vnd.jupyter.widget-view+json": {
       "model_id": "655996e593144da6a43fd89a5c252dc6",
       "version_major": 2,
       "version_minor": 0
      },
      "text/plain": [
       "Validation: |          | 0/? [00:00<?, ?it/s]"
      ]
     },
     "metadata": {},
     "output_type": "display_data"
    },
    {
     "data": {
      "application/vnd.jupyter.widget-view+json": {
       "model_id": "59d5c1ae31d6482298cac372bb198ae2",
       "version_major": 2,
       "version_minor": 0
      },
      "text/plain": [
       "Validation: |          | 0/? [00:00<?, ?it/s]"
      ]
     },
     "metadata": {},
     "output_type": "display_data"
    },
    {
     "data": {
      "application/vnd.jupyter.widget-view+json": {
       "model_id": "8101e053809d4035a17e4ea2927d36a2",
       "version_major": 2,
       "version_minor": 0
      },
      "text/plain": [
       "Validation: |          | 0/? [00:00<?, ?it/s]"
      ]
     },
     "metadata": {},
     "output_type": "display_data"
    },
    {
     "data": {
      "application/vnd.jupyter.widget-view+json": {
       "model_id": "27445918ae3e45eaa8a4b5e30539c1e5",
       "version_major": 2,
       "version_minor": 0
      },
      "text/plain": [
       "Validation: |          | 0/? [00:00<?, ?it/s]"
      ]
     },
     "metadata": {},
     "output_type": "display_data"
    },
    {
     "data": {
      "application/vnd.jupyter.widget-view+json": {
       "model_id": "35584943368541bc9c9dfd7cfb147760",
       "version_major": 2,
       "version_minor": 0
      },
      "text/plain": [
       "Validation: |          | 0/? [00:00<?, ?it/s]"
      ]
     },
     "metadata": {},
     "output_type": "display_data"
    },
    {
     "data": {
      "application/vnd.jupyter.widget-view+json": {
       "model_id": "7eee9c68ef924755a0234d87e4a8267c",
       "version_major": 2,
       "version_minor": 0
      },
      "text/plain": [
       "Validation: |          | 0/? [00:00<?, ?it/s]"
      ]
     },
     "metadata": {},
     "output_type": "display_data"
    },
    {
     "data": {
      "application/vnd.jupyter.widget-view+json": {
       "model_id": "1407c11279be416098f0aa7aa9d4ddc5",
       "version_major": 2,
       "version_minor": 0
      },
      "text/plain": [
       "Validation: |          | 0/? [00:00<?, ?it/s]"
      ]
     },
     "metadata": {},
     "output_type": "display_data"
    },
    {
     "data": {
      "application/vnd.jupyter.widget-view+json": {
       "model_id": "2b38a36f557f4a6db841fc3a505f240e",
       "version_major": 2,
       "version_minor": 0
      },
      "text/plain": [
       "Validation: |          | 0/? [00:00<?, ?it/s]"
      ]
     },
     "metadata": {},
     "output_type": "display_data"
    },
    {
     "data": {
      "application/vnd.jupyter.widget-view+json": {
       "model_id": "d3b02e98b7ba49cda3552e12f8f6a733",
       "version_major": 2,
       "version_minor": 0
      },
      "text/plain": [
       "Validation: |          | 0/? [00:00<?, ?it/s]"
      ]
     },
     "metadata": {},
     "output_type": "display_data"
    },
    {
     "data": {
      "application/vnd.jupyter.widget-view+json": {
       "model_id": "2c76833836a94b2898682d2eb309ac3a",
       "version_major": 2,
       "version_minor": 0
      },
      "text/plain": [
       "Validation: |          | 0/? [00:00<?, ?it/s]"
      ]
     },
     "metadata": {},
     "output_type": "display_data"
    },
    {
     "data": {
      "application/vnd.jupyter.widget-view+json": {
       "model_id": "ce3b6a589697453ea49301784ceabf2e",
       "version_major": 2,
       "version_minor": 0
      },
      "text/plain": [
       "Validation: |          | 0/? [00:00<?, ?it/s]"
      ]
     },
     "metadata": {},
     "output_type": "display_data"
    },
    {
     "data": {
      "application/vnd.jupyter.widget-view+json": {
       "model_id": "8e4165da0e694125b01ca2fc3b31a627",
       "version_major": 2,
       "version_minor": 0
      },
      "text/plain": [
       "Validation: |          | 0/? [00:00<?, ?it/s]"
      ]
     },
     "metadata": {},
     "output_type": "display_data"
    },
    {
     "data": {
      "application/vnd.jupyter.widget-view+json": {
       "model_id": "9e2100c4fb774d46bd12858f80c25c8c",
       "version_major": 2,
       "version_minor": 0
      },
      "text/plain": [
       "Validation: |          | 0/? [00:00<?, ?it/s]"
      ]
     },
     "metadata": {},
     "output_type": "display_data"
    },
    {
     "data": {
      "application/vnd.jupyter.widget-view+json": {
       "model_id": "a4b130ce6ea04326a8be7e73765785bc",
       "version_major": 2,
       "version_minor": 0
      },
      "text/plain": [
       "Validation: |          | 0/? [00:00<?, ?it/s]"
      ]
     },
     "metadata": {},
     "output_type": "display_data"
    },
    {
     "data": {
      "application/vnd.jupyter.widget-view+json": {
       "model_id": "5c41b766c49341a5be7a62875f95c1b0",
       "version_major": 2,
       "version_minor": 0
      },
      "text/plain": [
       "Validation: |          | 0/? [00:00<?, ?it/s]"
      ]
     },
     "metadata": {},
     "output_type": "display_data"
    },
    {
     "data": {
      "application/vnd.jupyter.widget-view+json": {
       "model_id": "4658a1ae06414c9db351aa5249a9452d",
       "version_major": 2,
       "version_minor": 0
      },
      "text/plain": [
       "Validation: |          | 0/? [00:00<?, ?it/s]"
      ]
     },
     "metadata": {},
     "output_type": "display_data"
    },
    {
     "data": {
      "application/vnd.jupyter.widget-view+json": {
       "model_id": "b8ce322228c2466ab7b5d404cc17865a",
       "version_major": 2,
       "version_minor": 0
      },
      "text/plain": [
       "Validation: |          | 0/? [00:00<?, ?it/s]"
      ]
     },
     "metadata": {},
     "output_type": "display_data"
    },
    {
     "data": {
      "application/vnd.jupyter.widget-view+json": {
       "model_id": "db208a23e7974b85bb8beb33ccf0837f",
       "version_major": 2,
       "version_minor": 0
      },
      "text/plain": [
       "Validation: |          | 0/? [00:00<?, ?it/s]"
      ]
     },
     "metadata": {},
     "output_type": "display_data"
    },
    {
     "data": {
      "application/vnd.jupyter.widget-view+json": {
       "model_id": "6d4f30676ae24332a074e3426787670d",
       "version_major": 2,
       "version_minor": 0
      },
      "text/plain": [
       "Validation: |          | 0/? [00:00<?, ?it/s]"
      ]
     },
     "metadata": {},
     "output_type": "display_data"
    },
    {
     "data": {
      "application/vnd.jupyter.widget-view+json": {
       "model_id": "c665d08a213b4a04b3210bdd05f3852d",
       "version_major": 2,
       "version_minor": 0
      },
      "text/plain": [
       "Validation: |          | 0/? [00:00<?, ?it/s]"
      ]
     },
     "metadata": {},
     "output_type": "display_data"
    },
    {
     "data": {
      "application/vnd.jupyter.widget-view+json": {
       "model_id": "2cc7c4b2364e4e7089e9142a738eefd4",
       "version_major": 2,
       "version_minor": 0
      },
      "text/plain": [
       "Validation: |          | 0/? [00:00<?, ?it/s]"
      ]
     },
     "metadata": {},
     "output_type": "display_data"
    },
    {
     "data": {
      "application/vnd.jupyter.widget-view+json": {
       "model_id": "42e1fa261bf44fed84772a86ce580848",
       "version_major": 2,
       "version_minor": 0
      },
      "text/plain": [
       "Validation: |          | 0/? [00:00<?, ?it/s]"
      ]
     },
     "metadata": {},
     "output_type": "display_data"
    },
    {
     "data": {
      "application/vnd.jupyter.widget-view+json": {
       "model_id": "25cb1a2521614b61b63c0b55452b2915",
       "version_major": 2,
       "version_minor": 0
      },
      "text/plain": [
       "Validation: |          | 0/? [00:00<?, ?it/s]"
      ]
     },
     "metadata": {},
     "output_type": "display_data"
    },
    {
     "data": {
      "application/vnd.jupyter.widget-view+json": {
       "model_id": "8e0bb7edfc7f41d281be05d44908db57",
       "version_major": 2,
       "version_minor": 0
      },
      "text/plain": [
       "Validation: |          | 0/? [00:00<?, ?it/s]"
      ]
     },
     "metadata": {},
     "output_type": "display_data"
    },
    {
     "data": {
      "application/vnd.jupyter.widget-view+json": {
       "model_id": "c47f078142514322bffacee280f29f55",
       "version_major": 2,
       "version_minor": 0
      },
      "text/plain": [
       "Validation: |          | 0/? [00:00<?, ?it/s]"
      ]
     },
     "metadata": {},
     "output_type": "display_data"
    },
    {
     "data": {
      "application/vnd.jupyter.widget-view+json": {
       "model_id": "538d9a6cdfb44a96b201139d9c0fae68",
       "version_major": 2,
       "version_minor": 0
      },
      "text/plain": [
       "Validation: |          | 0/? [00:00<?, ?it/s]"
      ]
     },
     "metadata": {},
     "output_type": "display_data"
    },
    {
     "data": {
      "application/vnd.jupyter.widget-view+json": {
       "model_id": "5951299549f24952b164e6ed7fde9c75",
       "version_major": 2,
       "version_minor": 0
      },
      "text/plain": [
       "Validation: |          | 0/? [00:00<?, ?it/s]"
      ]
     },
     "metadata": {},
     "output_type": "display_data"
    },
    {
     "data": {
      "application/vnd.jupyter.widget-view+json": {
       "model_id": "4f9b1c5a93824eb985696877655f0f24",
       "version_major": 2,
       "version_minor": 0
      },
      "text/plain": [
       "Validation: |          | 0/? [00:00<?, ?it/s]"
      ]
     },
     "metadata": {},
     "output_type": "display_data"
    },
    {
     "data": {
      "application/vnd.jupyter.widget-view+json": {
       "model_id": "b08d1e21970f4702bf7d7ef95722f0ec",
       "version_major": 2,
       "version_minor": 0
      },
      "text/plain": [
       "Validation: |          | 0/? [00:00<?, ?it/s]"
      ]
     },
     "metadata": {},
     "output_type": "display_data"
    },
    {
     "data": {
      "application/vnd.jupyter.widget-view+json": {
       "model_id": "25942e25e541414db2e6e3ac836e863f",
       "version_major": 2,
       "version_minor": 0
      },
      "text/plain": [
       "Validation: |          | 0/? [00:00<?, ?it/s]"
      ]
     },
     "metadata": {},
     "output_type": "display_data"
    },
    {
     "data": {
      "application/vnd.jupyter.widget-view+json": {
       "model_id": "5ee980be4cb441b4a38ce760061ca714",
       "version_major": 2,
       "version_minor": 0
      },
      "text/plain": [
       "Validation: |          | 0/? [00:00<?, ?it/s]"
      ]
     },
     "metadata": {},
     "output_type": "display_data"
    },
    {
     "data": {
      "application/vnd.jupyter.widget-view+json": {
       "model_id": "f304bef63fa44ead85b19fa2e790d3cd",
       "version_major": 2,
       "version_minor": 0
      },
      "text/plain": [
       "Validation: |          | 0/? [00:00<?, ?it/s]"
      ]
     },
     "metadata": {},
     "output_type": "display_data"
    },
    {
     "data": {
      "application/vnd.jupyter.widget-view+json": {
       "model_id": "9f9740f0ad2d4d3182dc41190cbb7d1b",
       "version_major": 2,
       "version_minor": 0
      },
      "text/plain": [
       "Validation: |          | 0/? [00:00<?, ?it/s]"
      ]
     },
     "metadata": {},
     "output_type": "display_data"
    },
    {
     "data": {
      "application/vnd.jupyter.widget-view+json": {
       "model_id": "a79fa4dbfbf843f78eb98811a575fe2c",
       "version_major": 2,
       "version_minor": 0
      },
      "text/plain": [
       "Validation: |          | 0/? [00:00<?, ?it/s]"
      ]
     },
     "metadata": {},
     "output_type": "display_data"
    },
    {
     "data": {
      "application/vnd.jupyter.widget-view+json": {
       "model_id": "b8c7bb006ec647679de355cb000652c3",
       "version_major": 2,
       "version_minor": 0
      },
      "text/plain": [
       "Validation: |          | 0/? [00:00<?, ?it/s]"
      ]
     },
     "metadata": {},
     "output_type": "display_data"
    },
    {
     "data": {
      "application/vnd.jupyter.widget-view+json": {
       "model_id": "b7f926f7e7364bcc80e8e0004d879588",
       "version_major": 2,
       "version_minor": 0
      },
      "text/plain": [
       "Validation: |          | 0/? [00:00<?, ?it/s]"
      ]
     },
     "metadata": {},
     "output_type": "display_data"
    },
    {
     "data": {
      "application/vnd.jupyter.widget-view+json": {
       "model_id": "aee572e750154f53871c3a961217c225",
       "version_major": 2,
       "version_minor": 0
      },
      "text/plain": [
       "Validation: |          | 0/? [00:00<?, ?it/s]"
      ]
     },
     "metadata": {},
     "output_type": "display_data"
    },
    {
     "data": {
      "application/vnd.jupyter.widget-view+json": {
       "model_id": "b147a62394d64499a11c1196e95eb6b6",
       "version_major": 2,
       "version_minor": 0
      },
      "text/plain": [
       "Validation: |          | 0/? [00:00<?, ?it/s]"
      ]
     },
     "metadata": {},
     "output_type": "display_data"
    },
    {
     "data": {
      "application/vnd.jupyter.widget-view+json": {
       "model_id": "3ecdc399fa24457fb1b21d804f9fad27",
       "version_major": 2,
       "version_minor": 0
      },
      "text/plain": [
       "Validation: |          | 0/? [00:00<?, ?it/s]"
      ]
     },
     "metadata": {},
     "output_type": "display_data"
    },
    {
     "data": {
      "application/vnd.jupyter.widget-view+json": {
       "model_id": "68bef1f0b47a48e3836687dc16098b31",
       "version_major": 2,
       "version_minor": 0
      },
      "text/plain": [
       "Validation: |          | 0/? [00:00<?, ?it/s]"
      ]
     },
     "metadata": {},
     "output_type": "display_data"
    },
    {
     "data": {
      "application/vnd.jupyter.widget-view+json": {
       "model_id": "c7b7ede203a34895bdf3568837f537f4",
       "version_major": 2,
       "version_minor": 0
      },
      "text/plain": [
       "Validation: |          | 0/? [00:00<?, ?it/s]"
      ]
     },
     "metadata": {},
     "output_type": "display_data"
    },
    {
     "data": {
      "application/vnd.jupyter.widget-view+json": {
       "model_id": "5ffa8b2dda2c403c8aa1f4ba49d45e19",
       "version_major": 2,
       "version_minor": 0
      },
      "text/plain": [
       "Validation: |          | 0/? [00:00<?, ?it/s]"
      ]
     },
     "metadata": {},
     "output_type": "display_data"
    },
    {
     "data": {
      "application/vnd.jupyter.widget-view+json": {
       "model_id": "7ae6108aaab942e3986bd268d7905342",
       "version_major": 2,
       "version_minor": 0
      },
      "text/plain": [
       "Validation: |          | 0/? [00:00<?, ?it/s]"
      ]
     },
     "metadata": {},
     "output_type": "display_data"
    },
    {
     "data": {
      "application/vnd.jupyter.widget-view+json": {
       "model_id": "fbd05a914c00487eac2c9a7529045e5c",
       "version_major": 2,
       "version_minor": 0
      },
      "text/plain": [
       "Validation: |          | 0/? [00:00<?, ?it/s]"
      ]
     },
     "metadata": {},
     "output_type": "display_data"
    },
    {
     "data": {
      "application/vnd.jupyter.widget-view+json": {
       "model_id": "e8bebc5a3400480685b06b3d95c9066c",
       "version_major": 2,
       "version_minor": 0
      },
      "text/plain": [
       "Validation: |          | 0/? [00:00<?, ?it/s]"
      ]
     },
     "metadata": {},
     "output_type": "display_data"
    },
    {
     "data": {
      "application/vnd.jupyter.widget-view+json": {
       "model_id": "0cde0f333f454ab3ab3847432638d1b7",
       "version_major": 2,
       "version_minor": 0
      },
      "text/plain": [
       "Validation: |          | 0/? [00:00<?, ?it/s]"
      ]
     },
     "metadata": {},
     "output_type": "display_data"
    },
    {
     "data": {
      "application/vnd.jupyter.widget-view+json": {
       "model_id": "5f13633874fa4e5ca5b0469af27d9878",
       "version_major": 2,
       "version_minor": 0
      },
      "text/plain": [
       "Validation: |          | 0/? [00:00<?, ?it/s]"
      ]
     },
     "metadata": {},
     "output_type": "display_data"
    },
    {
     "data": {
      "application/vnd.jupyter.widget-view+json": {
       "model_id": "928421899d1a4a99a33a6ca6c8e4e06c",
       "version_major": 2,
       "version_minor": 0
      },
      "text/plain": [
       "Validation: |          | 0/? [00:00<?, ?it/s]"
      ]
     },
     "metadata": {},
     "output_type": "display_data"
    },
    {
     "data": {
      "application/vnd.jupyter.widget-view+json": {
       "model_id": "c636d7697a4441de82513917d0d68e64",
       "version_major": 2,
       "version_minor": 0
      },
      "text/plain": [
       "Validation: |          | 0/? [00:00<?, ?it/s]"
      ]
     },
     "metadata": {},
     "output_type": "display_data"
    },
    {
     "data": {
      "application/vnd.jupyter.widget-view+json": {
       "model_id": "4271141ba53e4d799acbc2a5e32f9485",
       "version_major": 2,
       "version_minor": 0
      },
      "text/plain": [
       "Validation: |          | 0/? [00:00<?, ?it/s]"
      ]
     },
     "metadata": {},
     "output_type": "display_data"
    },
    {
     "name": "stderr",
     "output_type": "stream",
     "text": [
      "/Users/haukesteffen/miniconda3/envs/LearningPyTorch/lib/python3.12/site-packages/torch/optim/lr_scheduler.py:240: UserWarning: The epoch parameter in `scheduler.step()` was not necessary and is being deprecated where possible. Please use `scheduler.step()` to step the scheduler. During the deprecation, if epoch is different from None, the closed form is used instead of the new chainable form, where available. Please open an issue if you are unable to replicate your use case: https://github.com/pytorch/pytorch/issues/new/choose.\n",
      "  warnings.warn(EPOCH_DEPRECATION_WARNING, UserWarning)\n"
     ]
    },
    {
     "data": {
      "application/vnd.jupyter.widget-view+json": {
       "model_id": "eaad640c2b044a1abbb5a7684d6feb8c",
       "version_major": 2,
       "version_minor": 0
      },
      "text/plain": [
       "Validation: |          | 0/? [00:00<?, ?it/s]"
      ]
     },
     "metadata": {},
     "output_type": "display_data"
    },
    {
     "data": {
      "application/vnd.jupyter.widget-view+json": {
       "model_id": "36b6daad7d1b4aacb9e3df5aee275322",
       "version_major": 2,
       "version_minor": 0
      },
      "text/plain": [
       "Validation: |          | 0/? [00:00<?, ?it/s]"
      ]
     },
     "metadata": {},
     "output_type": "display_data"
    },
    {
     "data": {
      "application/vnd.jupyter.widget-view+json": {
       "model_id": "815f0d7eaf0642109fd33c741bf7b8e3",
       "version_major": 2,
       "version_minor": 0
      },
      "text/plain": [
       "Validation: |          | 0/? [00:00<?, ?it/s]"
      ]
     },
     "metadata": {},
     "output_type": "display_data"
    }
   ],
   "source": [
    "mlflow_logger = MLFlowLogger(experiment_name='Nationality Predictor', log_model=True)\n",
    "\n",
    "# log training parameters\n",
    "params = {\n",
    "    \"max_epochs\": MAX_EPOCHS,\n",
    "    \"batch_size\": BATCH_SIZE,\n",
    "}\n",
    "mlflow_logger.log_hyperparams(params)\n",
    "\n",
    "lightning_model = LightningModelWrapper(\n",
    "    mlflow_logger=mlflow_logger,\n",
    "    model=RNN_Nationality_Predictor(\n",
    "        input_size=len(VOCABULARY)+1,\n",
    "        output_size=len(set(COUNTRY_MAPPING.values()))+1,\n",
    "        architecture=ARCHITECTURE,\n",
    "        embedding_dim=EMBEDDING_DIM,\n",
    "        hidden_size=HIDDEN_SIZE,\n",
    "        num_rnn_layers=NUM_RNN_LAYERS,\n",
    "        dropout=DROPOUT\n",
    "    ).to(device),\n",
    "    criterion=F.binary_cross_entropy_with_logits\n",
    ")\n",
    "\n",
    "# register callbacks\n",
    "lr_monitor = LearningRateMonitor(logging_interval='step')\n",
    "early_stopping = EarlyStopping('val_loss', patience=10) # patience counts checks, not steps, so changing val_check_interval in Trainer instantiation changes this behaviour\n",
    "callbacks = [lr_monitor, early_stopping]\n",
    "mlflow_logger.log_hyperparams({'callbacks': ', '.join([callback.__class__.__name__ for callback in callbacks])})\n",
    "\n",
    "# instantiate trainer\n",
    "trainer = L.Trainer(\n",
    "    max_epochs=MAX_EPOCHS,\n",
    "    limit_val_batches=N_EVAL,\n",
    "    val_check_interval=N_EVAL,\n",
    "    log_every_n_steps=N_EVAL,\n",
    "    logger=mlflow_logger,\n",
    "    callbacks=callbacks,\n",
    "    gradient_clip_val=1.0\n",
    ")\n",
    "\n",
    "# fit model\n",
    "trainer.fit(\n",
    "    model=lightning_model,\n",
    "    train_dataloaders=train_dataloader,\n",
    "    val_dataloaders=val_dataloader\n",
    ")"
   ]
  },
  {
   "cell_type": "code",
   "execution_count": 6,
   "metadata": {},
   "outputs": [
    {
     "name": "stdout",
     "output_type": "stream",
     "text": [
      "Name                                     Actual Class         Predicted Class      Correct?  \n",
      "------------------------------------------------------------------------------------------\n",
      "Abdel Fattah el-Sisi                     Northern Africa      Northern Africa      Yes       \n",
      "João Lourenço                            Middle Africa        Southern Europe      No        \n",
      "Bola Ahmed Tinubu                        Western Africa       Western Africa       Yes       \n",
      "Taye Atske Selassie                      Eastern Africa       Western Europe       No        \n",
      "Cyril Ramaphosa                          Southern Africa      Southern Africa      Yes       \n",
      "Qassym-Schomart Kemeluly Toqajew         Central Asia         Western Asia         No        \n",
      "Xi Jinping                               Eastern Asia         South-eastern Asia   No        \n",
      "Prabowo Subianto                         South-Eastern Asia   Western Asia         No        \n",
      "Droupadi Murmu                           Southern Asia        Southern Asia        Yes       \n",
      "Recep Tayyip Erdoğan                     Western Asia         Western Asia         Yes       \n",
      "Ulf Kristersson                          Northern Europe      Northern Europe      Yes       \n",
      "Olaf Scholz                              Western Europe       Western Europe       Yes       \n",
      "Giorgia Meloni                           Southern Europe      Southern Europe      Yes       \n",
      "Andrzej Sebastian Duda                   Eastern Europe       Eastern Europe       Yes       \n",
      "Donald Trump                             Northern America     Northern America     Yes       \n",
      "Andrés Manuel López Obrador              Central America      Southern Europe      No        \n",
      "Andrew Holness                           Caribbean            Northern Europe      No        \n",
      "Luiz Inácio Lula da Silva                South America        South America        Yes       \n",
      "Anthony Albanese                         Oceania              Western Europe       No        \n",
      "\n",
      "Accuracy: 57.89%\n"
     ]
    }
   ],
   "source": [
    "# Test names for all 19 regions\n",
    "test_names = {\n",
    "    # Africa\n",
    "    \"Northern Africa\": \"Abdel Fattah el-Sisi\", # Egypt\n",
    "    \"Middle Africa\": \"João Lourenço\", # Angola\n",
    "    \"Western Africa\": \"Bola Ahmed Tinubu\", # Nigeria\n",
    "    \"Eastern Africa\": \"Taye Atske Selassie\", # Ethiopia\n",
    "    \"Southern Africa\": \"Cyril Ramaphosa\", # South Africa\n",
    "\n",
    "    # Asia\n",
    "    \"Central Asia\": \"Qassym-Schomart Kemeluly Toqajew\", # Kazakhstan\n",
    "    \"Eastern Asia\": \"Xi Jinping\", # China\n",
    "    \"South-Eastern Asia\": \"Prabowo Subianto\", # Indonesia\n",
    "    \"Southern Asia\": \"Droupadi Murmu\", # India\n",
    "    \"Western Asia\": \"Recep Tayyip Erdoğan\", # Turkey\n",
    "\n",
    "    # Europe\n",
    "    \"Northern Europe\": \"Ulf Kristersson\", # Sweden\n",
    "    \"Western Europe\": \"Olaf Scholz\", # Germany\n",
    "    \"Southern Europe\": \"Giorgia Meloni\", # Italy\n",
    "    \"Eastern Europe\": \"Andrzej Sebastian Duda\", # Poland\n",
    "\n",
    "    # Americas\n",
    "    \"Northern America\": \"Donald Trump\", # United States\n",
    "    \"Central America\": \"Andrés Manuel López Obrador\", # Mexico\n",
    "    \"Caribbean\": \"Andrew Holness\", # Jamaica\n",
    "    \"South America\": \"Luiz Inácio Lula da Silva\", # Brazil\n",
    "\n",
    "    # Oceania\n",
    "    \"Oceania\": \"Anthony Albanese\" # Australia\n",
    "}\n",
    "\n",
    "# run test on test names\n",
    "lightning_model.model.eval()\n",
    "lightning_model.model.to(device)\n",
    "tensor, length = train_data._encode_name(list(test_names.values()))\n",
    "tensor = tensor.to(device)\n",
    "logits = lightning_model.model(tensor, length)\n",
    "countries_list = train_data._decode_country(logits)\n",
    "preds = dict(zip(test_names.values(), countries_list))\n",
    "\n",
    "# define column widths\n",
    "name_width = 40\n",
    "actual_width = 20\n",
    "predicted_width = 20\n",
    "correct_width = 10\n",
    "\n",
    "# print output header\n",
    "header = f\"{'Name':<{name_width}} {'Actual Class':<{actual_width}} {'Predicted Class':<{predicted_width}} {'Correct?':<{correct_width}}\"\n",
    "print(header)\n",
    "print(\"-\" * (name_width + actual_width + predicted_width + correct_width))\n",
    "\n",
    "# loop through test names and format outputs\n",
    "total = 0\n",
    "correct_count = 0\n",
    "for actual_class, name in test_names.items():\n",
    "    predicted_class = preds.get(name, \"N/A\")\n",
    "    is_correct = predicted_class == actual_class\n",
    "    correct_str = \"Yes\" if is_correct else \"No\"\n",
    "    if is_correct:\n",
    "        correct_count += 1\n",
    "    total += 1\n",
    "    row = f\"{name:<{name_width}} {actual_class:<{actual_width}} {predicted_class:<{predicted_width}} {correct_str:<{correct_width}}\"\n",
    "    print(row)\n",
    "accuracy = (correct_count / total) * 100\n",
    "print(f'\\nAccuracy: {accuracy:.2f}%')"
   ]
  }
 ],
 "metadata": {
  "kernelspec": {
   "display_name": "LearningPyTorch",
   "language": "python",
   "name": "python3"
  },
  "language_info": {
   "codemirror_mode": {
    "name": "ipython",
    "version": 3
   },
   "file_extension": ".py",
   "mimetype": "text/x-python",
   "name": "python",
   "nbconvert_exporter": "python",
   "pygments_lexer": "ipython3",
   "version": "3.12.2"
  }
 },
 "nbformat": 4,
 "nbformat_minor": 2
}
